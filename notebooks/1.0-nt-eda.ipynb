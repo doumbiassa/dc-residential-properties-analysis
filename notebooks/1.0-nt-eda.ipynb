{
 "cells": [
  {
   "cell_type": "markdown",
   "metadata": {},
   "source": [
    "# Import"
   ]
  },
  {
   "cell_type": "code",
   "execution_count": 1,
   "metadata": {},
   "outputs": [],
   "source": [
    "%matplotlib inline\n",
    "\n",
    "import os\n",
    "import numpy as np\n",
    "import pandas as pd\n",
    "import seaborn as sns\n",
    "import matplotlib.pyplot as plt\n",
    "\n",
    "from pathlib import Path\n",
    "\n",
    "sns.set_style(\"whitegrid\")"
   ]
  },
  {
   "cell_type": "markdown",
   "metadata": {},
   "source": [
    "Change directory to get source code:"
   ]
  },
  {
   "cell_type": "code",
   "execution_count": 2,
   "metadata": {},
   "outputs": [],
   "source": [
    "main_path = os.getcwd()\n",
    "parent_path = Path(os.getcwd()).parent\n",
    "src_path = str(parent_path) + \"/src/data\"\n",
    "os.chdir(src_path)"
   ]
  },
  {
   "cell_type": "markdown",
   "metadata": {},
   "source": [
    "More import:"
   ]
  },
  {
   "cell_type": "code",
   "execution_count": 3,
   "metadata": {},
   "outputs": [],
   "source": [
    "import change_directory"
   ]
  },
  {
   "cell_type": "markdown",
   "metadata": {},
   "source": [
    "Change back to notebook directory:"
   ]
  },
  {
   "cell_type": "code",
   "execution_count": 4,
   "metadata": {},
   "outputs": [],
   "source": [
    "os.chdir(main_path)"
   ]
  },
  {
   "cell_type": "markdown",
   "metadata": {},
   "source": [
    "# ETL"
   ]
  },
  {
   "cell_type": "markdown",
   "metadata": {},
   "source": [
    "## Load data"
   ]
  },
  {
   "cell_type": "markdown",
   "metadata": {},
   "source": [
    "Change directory to get data:"
   ]
  },
  {
   "cell_type": "code",
   "execution_count": 5,
   "metadata": {},
   "outputs": [],
   "source": [
    "cd = change_directory.ChangeDirectory()\n",
    "cd.change_to_data_dir()"
   ]
  },
  {
   "cell_type": "markdown",
   "metadata": {},
   "source": [
    "Load data:"
   ]
  },
  {
   "cell_type": "code",
   "execution_count": 6,
   "metadata": {},
   "outputs": [
    {
     "name": "stderr",
     "output_type": "stream",
     "text": [
      "/home/nt/anaconda3/lib/python3.7/site-packages/IPython/core/interactiveshell.py:3049: DtypeWarning: Columns (18,19,20,21,22,23,24,33,34,35,37,43,45) have mixed types. Specify dtype option on import or set low_memory=False.\n",
      "  interactivity=interactivity, compiler=compiler, result=result)\n"
     ]
    }
   ],
   "source": [
    "properties = pd.read_csv(\"raw/DC_Properties.csv\")"
   ]
  },
  {
   "cell_type": "markdown",
   "metadata": {},
   "source": [
    "Change back to notebook directory:"
   ]
  },
  {
   "cell_type": "code",
   "execution_count": 7,
   "metadata": {},
   "outputs": [],
   "source": [
    "cd.change_to_notebook_dir()"
   ]
  },
  {
   "cell_type": "markdown",
   "metadata": {},
   "source": [
    "## Explore data"
   ]
  },
  {
   "cell_type": "markdown",
   "metadata": {},
   "source": [
    "Quick peek into the data:"
   ]
  },
  {
   "cell_type": "code",
   "execution_count": 8,
   "metadata": {},
   "outputs": [
    {
     "data": {
      "text/html": [
       "<div>\n",
       "<style scoped>\n",
       "    .dataframe tbody tr th:only-of-type {\n",
       "        vertical-align: middle;\n",
       "    }\n",
       "\n",
       "    .dataframe tbody tr th {\n",
       "        vertical-align: top;\n",
       "    }\n",
       "\n",
       "    .dataframe thead th {\n",
       "        text-align: right;\n",
       "    }\n",
       "</style>\n",
       "<table border=\"1\" class=\"dataframe\">\n",
       "  <thead>\n",
       "    <tr style=\"text-align: right;\">\n",
       "      <th></th>\n",
       "      <th>Unnamed: 0</th>\n",
       "      <th>BATHRM</th>\n",
       "      <th>HF_BATHRM</th>\n",
       "      <th>HEAT</th>\n",
       "      <th>AC</th>\n",
       "      <th>NUM_UNITS</th>\n",
       "      <th>ROOMS</th>\n",
       "      <th>BEDRM</th>\n",
       "      <th>AYB</th>\n",
       "      <th>YR_RMDL</th>\n",
       "      <th>...</th>\n",
       "      <th>LONGITUDE</th>\n",
       "      <th>ASSESSMENT_NBHD</th>\n",
       "      <th>ASSESSMENT_SUBNBHD</th>\n",
       "      <th>CENSUS_TRACT</th>\n",
       "      <th>CENSUS_BLOCK</th>\n",
       "      <th>WARD</th>\n",
       "      <th>SQUARE</th>\n",
       "      <th>X</th>\n",
       "      <th>Y</th>\n",
       "      <th>QUADRANT</th>\n",
       "    </tr>\n",
       "  </thead>\n",
       "  <tbody>\n",
       "    <tr>\n",
       "      <th>0</th>\n",
       "      <td>0</td>\n",
       "      <td>4</td>\n",
       "      <td>0</td>\n",
       "      <td>Warm Cool</td>\n",
       "      <td>Y</td>\n",
       "      <td>2.0</td>\n",
       "      <td>8</td>\n",
       "      <td>4</td>\n",
       "      <td>1910.0</td>\n",
       "      <td>1988.0</td>\n",
       "      <td>...</td>\n",
       "      <td>-77.040832</td>\n",
       "      <td>Old City 2</td>\n",
       "      <td>040 D Old City 2</td>\n",
       "      <td>4201.0</td>\n",
       "      <td>004201 2006</td>\n",
       "      <td>Ward 2</td>\n",
       "      <td>152</td>\n",
       "      <td>-77.040429</td>\n",
       "      <td>38.914881</td>\n",
       "      <td>NW</td>\n",
       "    </tr>\n",
       "    <tr>\n",
       "      <th>1</th>\n",
       "      <td>1</td>\n",
       "      <td>3</td>\n",
       "      <td>1</td>\n",
       "      <td>Warm Cool</td>\n",
       "      <td>Y</td>\n",
       "      <td>2.0</td>\n",
       "      <td>11</td>\n",
       "      <td>5</td>\n",
       "      <td>1898.0</td>\n",
       "      <td>2007.0</td>\n",
       "      <td>...</td>\n",
       "      <td>-77.040764</td>\n",
       "      <td>Old City 2</td>\n",
       "      <td>040 D Old City 2</td>\n",
       "      <td>4201.0</td>\n",
       "      <td>004201 2006</td>\n",
       "      <td>Ward 2</td>\n",
       "      <td>152</td>\n",
       "      <td>-77.040429</td>\n",
       "      <td>38.914881</td>\n",
       "      <td>NW</td>\n",
       "    </tr>\n",
       "    <tr>\n",
       "      <th>2</th>\n",
       "      <td>2</td>\n",
       "      <td>3</td>\n",
       "      <td>1</td>\n",
       "      <td>Hot Water Rad</td>\n",
       "      <td>Y</td>\n",
       "      <td>2.0</td>\n",
       "      <td>9</td>\n",
       "      <td>5</td>\n",
       "      <td>1910.0</td>\n",
       "      <td>2009.0</td>\n",
       "      <td>...</td>\n",
       "      <td>-77.040678</td>\n",
       "      <td>Old City 2</td>\n",
       "      <td>040 D Old City 2</td>\n",
       "      <td>4201.0</td>\n",
       "      <td>004201 2006</td>\n",
       "      <td>Ward 2</td>\n",
       "      <td>152</td>\n",
       "      <td>-77.040429</td>\n",
       "      <td>38.914881</td>\n",
       "      <td>NW</td>\n",
       "    </tr>\n",
       "    <tr>\n",
       "      <th>3</th>\n",
       "      <td>3</td>\n",
       "      <td>3</td>\n",
       "      <td>1</td>\n",
       "      <td>Hot Water Rad</td>\n",
       "      <td>Y</td>\n",
       "      <td>2.0</td>\n",
       "      <td>8</td>\n",
       "      <td>5</td>\n",
       "      <td>1900.0</td>\n",
       "      <td>2003.0</td>\n",
       "      <td>...</td>\n",
       "      <td>-77.040629</td>\n",
       "      <td>Old City 2</td>\n",
       "      <td>040 D Old City 2</td>\n",
       "      <td>4201.0</td>\n",
       "      <td>004201 2006</td>\n",
       "      <td>Ward 2</td>\n",
       "      <td>152</td>\n",
       "      <td>-77.040429</td>\n",
       "      <td>38.914881</td>\n",
       "      <td>NW</td>\n",
       "    </tr>\n",
       "    <tr>\n",
       "      <th>4</th>\n",
       "      <td>4</td>\n",
       "      <td>2</td>\n",
       "      <td>1</td>\n",
       "      <td>Warm Cool</td>\n",
       "      <td>Y</td>\n",
       "      <td>1.0</td>\n",
       "      <td>11</td>\n",
       "      <td>3</td>\n",
       "      <td>1913.0</td>\n",
       "      <td>2012.0</td>\n",
       "      <td>...</td>\n",
       "      <td>-77.039361</td>\n",
       "      <td>Old City 2</td>\n",
       "      <td>040 D Old City 2</td>\n",
       "      <td>4201.0</td>\n",
       "      <td>004201 2006</td>\n",
       "      <td>Ward 2</td>\n",
       "      <td>152</td>\n",
       "      <td>-77.040429</td>\n",
       "      <td>38.914881</td>\n",
       "      <td>NW</td>\n",
       "    </tr>\n",
       "  </tbody>\n",
       "</table>\n",
       "<p>5 rows × 49 columns</p>\n",
       "</div>"
      ],
      "text/plain": [
       "   Unnamed: 0  BATHRM  HF_BATHRM           HEAT AC  NUM_UNITS  ROOMS  BEDRM  \\\n",
       "0           0       4          0      Warm Cool  Y        2.0      8      4   \n",
       "1           1       3          1      Warm Cool  Y        2.0     11      5   \n",
       "2           2       3          1  Hot Water Rad  Y        2.0      9      5   \n",
       "3           3       3          1  Hot Water Rad  Y        2.0      8      5   \n",
       "4           4       2          1      Warm Cool  Y        1.0     11      3   \n",
       "\n",
       "      AYB  YR_RMDL  ...  LONGITUDE  ASSESSMENT_NBHD ASSESSMENT_SUBNBHD  \\\n",
       "0  1910.0   1988.0  ... -77.040832       Old City 2   040 D Old City 2   \n",
       "1  1898.0   2007.0  ... -77.040764       Old City 2   040 D Old City 2   \n",
       "2  1910.0   2009.0  ... -77.040678       Old City 2   040 D Old City 2   \n",
       "3  1900.0   2003.0  ... -77.040629       Old City 2   040 D Old City 2   \n",
       "4  1913.0   2012.0  ... -77.039361       Old City 2   040 D Old City 2   \n",
       "\n",
       "   CENSUS_TRACT CENSUS_BLOCK    WARD  SQUARE          X          Y QUADRANT  \n",
       "0        4201.0  004201 2006  Ward 2     152 -77.040429  38.914881       NW  \n",
       "1        4201.0  004201 2006  Ward 2     152 -77.040429  38.914881       NW  \n",
       "2        4201.0  004201 2006  Ward 2     152 -77.040429  38.914881       NW  \n",
       "3        4201.0  004201 2006  Ward 2     152 -77.040429  38.914881       NW  \n",
       "4        4201.0  004201 2006  Ward 2     152 -77.040429  38.914881       NW  \n",
       "\n",
       "[5 rows x 49 columns]"
      ]
     },
     "execution_count": 8,
     "metadata": {},
     "output_type": "execute_result"
    }
   ],
   "source": [
    "properties.head()"
   ]
  },
  {
   "cell_type": "code",
   "execution_count": 9,
   "metadata": {},
   "outputs": [
    {
     "name": "stdout",
     "output_type": "stream",
     "text": [
      "<class 'pandas.core.frame.DataFrame'>\n",
      "RangeIndex: 158957 entries, 0 to 158956\n",
      "Data columns (total 49 columns):\n",
      "Unnamed: 0            158957 non-null int64\n",
      "BATHRM                158957 non-null int64\n",
      "HF_BATHRM             158957 non-null int64\n",
      "HEAT                  158957 non-null object\n",
      "AC                    158957 non-null object\n",
      "NUM_UNITS             106696 non-null float64\n",
      "ROOMS                 158957 non-null int64\n",
      "BEDRM                 158957 non-null int64\n",
      "AYB                   158686 non-null float64\n",
      "YR_RMDL               80928 non-null float64\n",
      "EYB                   158957 non-null int64\n",
      "STORIES               106652 non-null float64\n",
      "SALEDATE              132187 non-null object\n",
      "PRICE                 98216 non-null float64\n",
      "QUALIFIED             158957 non-null object\n",
      "SALE_NUM              158957 non-null int64\n",
      "GBA                   106696 non-null float64\n",
      "BLDG_NUM              158957 non-null int64\n",
      "STYLE                 106696 non-null object\n",
      "STRUCT                106696 non-null object\n",
      "GRADE                 106696 non-null object\n",
      "CNDTN                 106696 non-null object\n",
      "EXTWALL               106696 non-null object\n",
      "ROOF                  106696 non-null object\n",
      "INTWALL               106696 non-null object\n",
      "KITCHENS              106695 non-null float64\n",
      "FIREPLACES            158957 non-null int64\n",
      "USECODE               158957 non-null int64\n",
      "LANDAREA              158957 non-null int64\n",
      "GIS_LAST_MOD_DTTM     158957 non-null object\n",
      "SOURCE                158957 non-null object\n",
      "CMPLX_NUM             52261 non-null float64\n",
      "LIVING_GBA            52261 non-null float64\n",
      "FULLADDRESS           106040 non-null object\n",
      "CITY                  106051 non-null object\n",
      "STATE                 106051 non-null object\n",
      "ZIPCODE               158956 non-null float64\n",
      "NATIONALGRID          106051 non-null object\n",
      "LATITUDE              158956 non-null float64\n",
      "LONGITUDE             158956 non-null float64\n",
      "ASSESSMENT_NBHD       158956 non-null object\n",
      "ASSESSMENT_SUBNBHD    126406 non-null object\n",
      "CENSUS_TRACT          158956 non-null float64\n",
      "CENSUS_BLOCK          106051 non-null object\n",
      "WARD                  158956 non-null object\n",
      "SQUARE                158957 non-null object\n",
      "X                     158720 non-null float64\n",
      "Y                     158720 non-null float64\n",
      "QUADRANT              158720 non-null object\n",
      "dtypes: float64(15), int64(11), object(23)\n",
      "memory usage: 59.4+ MB\n"
     ]
    }
   ],
   "source": [
    "properties.info()"
   ]
  },
  {
   "cell_type": "markdown",
   "metadata": {},
   "source": [
    "Quite a few features with missing data."
   ]
  },
  {
   "cell_type": "markdown",
   "metadata": {},
   "source": [
    "Duplicates?"
   ]
  },
  {
   "cell_type": "code",
   "execution_count": 10,
   "metadata": {},
   "outputs": [
    {
     "data": {
      "text/plain": [
       "0"
      ]
     },
     "execution_count": 10,
     "metadata": {},
     "output_type": "execute_result"
    }
   ],
   "source": [
    "sum(properties.duplicated())"
   ]
  },
  {
   "cell_type": "markdown",
   "metadata": {},
   "source": [
    "Good."
   ]
  },
  {
   "cell_type": "markdown",
   "metadata": {},
   "source": [
    "### Unnamed: 0"
   ]
  },
  {
   "cell_type": "code",
   "execution_count": 11,
   "metadata": {},
   "outputs": [
    {
     "data": {
      "text/plain": [
       "158957"
      ]
     },
     "execution_count": 11,
     "metadata": {},
     "output_type": "execute_result"
    }
   ],
   "source": [
    "properties[\"Unnamed: 0\"].nunique()"
   ]
  },
  {
   "cell_type": "code",
   "execution_count": 12,
   "metadata": {},
   "outputs": [
    {
     "data": {
      "text/plain": [
       "0    0\n",
       "1    1\n",
       "2    2\n",
       "3    3\n",
       "4    4\n",
       "Name: Unnamed: 0, dtype: int64"
      ]
     },
     "execution_count": 12,
     "metadata": {},
     "output_type": "execute_result"
    }
   ],
   "source": [
    "properties[\"Unnamed: 0\"].head()"
   ]
  },
  {
   "cell_type": "code",
   "execution_count": 13,
   "metadata": {},
   "outputs": [
    {
     "data": {
      "text/plain": [
       "158952    158952\n",
       "158953    158953\n",
       "158954    158954\n",
       "158955    158955\n",
       "158956    158956\n",
       "Name: Unnamed: 0, dtype: int64"
      ]
     },
     "execution_count": 13,
     "metadata": {},
     "output_type": "execute_result"
    }
   ],
   "source": [
    "properties[\"Unnamed: 0\"].tail()"
   ]
  },
  {
   "cell_type": "markdown",
   "metadata": {},
   "source": [
    "Just indexing. We don't need it."
   ]
  },
  {
   "cell_type": "code",
   "execution_count": 14,
   "metadata": {},
   "outputs": [],
   "source": [
    "properties.drop(\"Unnamed: 0\", axis=1, inplace=True)"
   ]
  },
  {
   "cell_type": "markdown",
   "metadata": {},
   "source": [
    "### PRICE\n",
    "Price of most recent sale.<br>This is our target variable for our linear regression models."
   ]
  },
  {
   "cell_type": "code",
   "execution_count": 15,
   "metadata": {},
   "outputs": [
    {
     "data": {
      "text/plain": [
       "60741"
      ]
     },
     "execution_count": 15,
     "metadata": {},
     "output_type": "execute_result"
    }
   ],
   "source": [
    "sum(properties.PRICE.isna())"
   ]
  },
  {
   "cell_type": "code",
   "execution_count": 16,
   "metadata": {},
   "outputs": [
    {
     "name": "stdout",
     "output_type": "stream",
     "text": [
      "38.21% of our data is missing price values.\n"
     ]
    }
   ],
   "source": [
    "print(str(round(sum(properties.PRICE.isna()) / len(properties) * 100, 2)) + \"% of our data is missing price values.\")"
   ]
  },
  {
   "cell_type": "markdown",
   "metadata": {},
   "source": [
    "Since our target variable is PRICE, we have no choice but to eliminate those rows with missing data."
   ]
  },
  {
   "cell_type": "code",
   "execution_count": 17,
   "metadata": {},
   "outputs": [],
   "source": [
    "properties = properties[~properties.PRICE.isna()]"
   ]
  },
  {
   "cell_type": "markdown",
   "metadata": {},
   "source": [
    "Double check:"
   ]
  },
  {
   "cell_type": "code",
   "execution_count": 18,
   "metadata": {},
   "outputs": [
    {
     "data": {
      "text/plain": [
       "(98216, 48)"
      ]
     },
     "execution_count": 18,
     "metadata": {},
     "output_type": "execute_result"
    }
   ],
   "source": [
    "properties.shape"
   ]
  },
  {
   "cell_type": "markdown",
   "metadata": {},
   "source": [
    "PRICE's distribution:"
   ]
  },
  {
   "cell_type": "code",
   "execution_count": 19,
   "metadata": {},
   "outputs": [
    {
     "data": {
      "text/plain": [
       "count    9.821600e+04\n",
       "mean     9.313516e+05\n",
       "std      7.061325e+06\n",
       "min      1.000000e+00\n",
       "25%      2.400000e+05\n",
       "50%      3.999990e+05\n",
       "75%      6.520000e+05\n",
       "max      1.374275e+08\n",
       "Name: PRICE, dtype: float64"
      ]
     },
     "execution_count": 19,
     "metadata": {},
     "output_type": "execute_result"
    }
   ],
   "source": [
    "properties.PRICE.describe()"
   ]
  },
  {
   "cell_type": "code",
   "execution_count": 20,
   "metadata": {},
   "outputs": [
    {
     "data": {
      "text/plain": [
       "Text(0.5, 1.0, 'PRICE Box Plot')"
      ]
     },
     "execution_count": 20,
     "metadata": {},
     "output_type": "execute_result"
    },
    {
     "data": {
      "image/png": "[encoded data removed]",
      "text/plain": [
       "<Figure size 432x288 with 1 Axes>"
      ]
     },
     "metadata": {
      "needs_background": "light"
     },
     "output_type": "display_data"
    }
   ],
   "source": [
    "properties.PRICE.plot.box()\n",
    "plt.ylabel(\"USD\")\n",
    "plt.title(\"PRICE Box Plot\")"
   ]
  },
  {
   "cell_type": "markdown",
   "metadata": {},
   "source": [
    "The cluster at 140 mil doesn't look right. The cluster at 60 mil doesn't look right either.<br> https://www.cnbc.com/2018/05/30/photos-of-the-most-expensive-home-for-sale-in-the-washington-dc-area.html"
   ]
  },
  {
   "cell_type": "markdown",
   "metadata": {},
   "source": [
    "First cluster:"
   ]
  },
  {
   "cell_type": "code",
   "execution_count": 21,
   "metadata": {},
   "outputs": [
    {
     "data": {
      "text/plain": [
       "242"
      ]
     },
     "execution_count": 21,
     "metadata": {},
     "output_type": "execute_result"
    }
   ],
   "source": [
    "len(properties[properties.PRICE > 60000000])"
   ]
  },
  {
   "cell_type": "code",
   "execution_count": 22,
   "metadata": {},
   "outputs": [
    {
     "data": {
      "text/plain": [
       "125662    137427545.0\n",
       "125663    137427545.0\n",
       "125664    137427545.0\n",
       "125670    137427545.0\n",
       "125845    137427545.0\n",
       "Name: PRICE, dtype: float64"
      ]
     },
     "execution_count": 22,
     "metadata": {},
     "output_type": "execute_result"
    }
   ],
   "source": [
    "properties[properties.PRICE > 60000000].PRICE.head()"
   ]
  },
  {
   "cell_type": "code",
   "execution_count": 23,
   "metadata": {},
   "outputs": [
    {
     "data": {
      "text/plain": [
       "242"
      ]
     },
     "execution_count": 23,
     "metadata": {},
     "output_type": "execute_result"
    }
   ],
   "source": [
    "sum(properties[properties.PRICE > 60000000].PRICE == 137427545)"
   ]
  },
  {
   "cell_type": "markdown",
   "metadata": {},
   "source": [
    "Second cluster:"
   ]
  },
  {
   "cell_type": "code",
   "execution_count": 24,
   "metadata": {},
   "outputs": [
    {
     "data": {
      "text/plain": [
       "119"
      ]
     },
     "execution_count": 24,
     "metadata": {},
     "output_type": "execute_result"
    }
   ],
   "source": [
    "len(properties[(properties.PRICE > 50000000) & (properties.PRICE < 60000000)])"
   ]
  },
  {
   "cell_type": "code",
   "execution_count": 25,
   "metadata": {},
   "outputs": [
    {
     "data": {
      "text/plain": [
       "132018    53969391.0\n",
       "132019    53969391.0\n",
       "132020    53969391.0\n",
       "132021    53969391.0\n",
       "132023    53969391.0\n",
       "Name: PRICE, dtype: float64"
      ]
     },
     "execution_count": 25,
     "metadata": {},
     "output_type": "execute_result"
    }
   ],
   "source": [
    "properties[(properties.PRICE > 50000000) & (properties.PRICE < 60000000)].PRICE.head()"
   ]
  },
  {
   "cell_type": "code",
   "execution_count": 26,
   "metadata": {},
   "outputs": [
    {
     "data": {
      "text/plain": [
       "118"
      ]
     },
     "execution_count": 26,
     "metadata": {},
     "output_type": "execute_result"
    }
   ],
   "source": [
    "sum(properties[(properties.PRICE > 50000000) & (properties.PRICE < 60000000)].PRICE == 53969391)"
   ]
  },
  {
   "cell_type": "code",
   "execution_count": 27,
   "metadata": {},
   "outputs": [
    {
     "data": {
      "text/plain": [
       "132028    53696391.0\n",
       "Name: PRICE, dtype: float64"
      ]
     },
     "execution_count": 27,
     "metadata": {},
     "output_type": "execute_result"
    }
   ],
   "source": [
    "properties[(properties.PRICE > 50000000) & (properties.PRICE < 60000000)].loc[properties.PRICE != 53969391].PRICE"
   ]
  },
  {
   "cell_type": "markdown",
   "metadata": {},
   "source": [
    "53,**969**,391 vs. 53,**696**,391.."
   ]
  },
  {
   "cell_type": "markdown",
   "metadata": {},
   "source": [
    "It makes sense to get rid of these rows."
   ]
  },
  {
   "cell_type": "code",
   "execution_count": 28,
   "metadata": {},
   "outputs": [
    {
     "data": {
      "text/plain": [
       "(97855, 48)"
      ]
     },
     "execution_count": 28,
     "metadata": {},
     "output_type": "execute_result"
    }
   ],
   "source": [
    "properties = properties[properties.PRICE < 50000000]\n",
    "properties.shape"
   ]
  },
  {
   "cell_type": "markdown",
   "metadata": {},
   "source": [
    "How cheap can DC houses go?<br>\n",
    "Redfin shows a condo or two being sold under 50k. However, most of those \"houses\" being sold \"for cheap\" are garages. To be safe, we have decided to get rid of rows whose prices are less than 100k."
   ]
  },
  {
   "cell_type": "code",
   "execution_count": 29,
   "metadata": {},
   "outputs": [
    {
     "data": {
      "text/plain": [
       "5681"
      ]
     },
     "execution_count": 29,
     "metadata": {},
     "output_type": "execute_result"
    }
   ],
   "source": [
    "len(properties[properties.PRICE < 100000])"
   ]
  },
  {
   "cell_type": "code",
   "execution_count": 30,
   "metadata": {},
   "outputs": [
    {
     "data": {
      "text/plain": [
       "(92174, 48)"
      ]
     },
     "execution_count": 30,
     "metadata": {},
     "output_type": "execute_result"
    }
   ],
   "source": [
    "properties = properties[properties.PRICE >= 100000]\n",
    "properties.shape"
   ]
  },
  {
   "cell_type": "markdown",
   "metadata": {},
   "source": [
    "PRICE's distribution:"
   ]
  },
  {
   "cell_type": "code",
   "execution_count": 31,
   "metadata": {},
   "outputs": [],
   "source": [
    "properties.reset_index(inplace=True, drop=True)"
   ]
  },
  {
   "cell_type": "code",
   "execution_count": 32,
   "metadata": {},
   "outputs": [
    {
     "data": {
      "text/plain": [
       "Text(0.5, 1.0, 'PRICE Box Plot')"
      ]
     },
     "execution_count": 32,
     "metadata": {},
     "output_type": "execute_result"
    },
    {
     "data": {
      "image/png": "[encoded data removed]",
      "text/plain": [
       "<Figure size 432x288 with 1 Axes>"
      ]
     },
     "metadata": {
      "needs_background": "light"
     },
     "output_type": "display_data"
    }
   ],
   "source": [
    "properties.PRICE.plot.box()\n",
    "plt.ylabel(\"USD\")\n",
    "plt.title(\"PRICE Box Plot\")"
   ]
  },
  {
   "cell_type": "code",
   "execution_count": 33,
   "metadata": {},
   "outputs": [
    {
     "data": {
      "text/plain": [
       "Text(0.5, 1.0, 'PRICE Histogram')"
      ]
     },
     "execution_count": 33,
     "metadata": {},
     "output_type": "execute_result"
    },
    {
     "data": {
      "image/png": "[encoded data removed]",
      "text/plain": [
       "<Figure size 432x288 with 1 Axes>"
      ]
     },
     "metadata": {
      "needs_background": "light"
     },
     "output_type": "display_data"
    }
   ],
   "source": [
    "properties.PRICE.hist(bins=100)\n",
    "plt.ylabel(\"Count\")\n",
    "plt.xlabel(\"PRICE (USD)\")\n",
    "plt.title(\"PRICE Histogram\")"
   ]
  },
  {
   "cell_type": "markdown",
   "metadata": {},
   "source": [
    "Would log be better?"
   ]
  },
  {
   "cell_type": "code",
   "execution_count": 34,
   "metadata": {},
   "outputs": [],
   "source": [
    "properties[\"log(PRICE)\"] = properties.PRICE.apply(lambda x: np.log(x))"
   ]
  },
  {
   "cell_type": "code",
   "execution_count": 35,
   "metadata": {},
   "outputs": [
    {
     "data": {
      "text/plain": [
       "Text(0.5, 1.0, 'log(PRICE) Histogram')"
      ]
     },
     "execution_count": 35,
     "metadata": {},
     "output_type": "execute_result"
    },
    {
     "data": {
      "image/png": "[encoded data removed]",
      "text/plain": [
       "<Figure size 432x288 with 1 Axes>"
      ]
     },
     "metadata": {
      "needs_background": "light"
     },
     "output_type": "display_data"
    }
   ],
   "source": [
    "properties[\"log(PRICE)\"].hist()\n",
    "plt.ylabel(\"Count\")\n",
    "plt.xlabel(\"log(PRICE)\")\n",
    "plt.title(\"log(PRICE) Histogram\")"
   ]
  },
  {
   "cell_type": "markdown",
   "metadata": {},
   "source": [
    "Nice!"
   ]
  },
  {
   "cell_type": "markdown",
   "metadata": {},
   "source": [
    "### GBA\n",
    "Gross building area in square feet."
   ]
  },
  {
   "cell_type": "code",
   "execution_count": 36,
   "metadata": {},
   "outputs": [
    {
     "data": {
      "text/plain": [
       "37433"
      ]
     },
     "execution_count": 36,
     "metadata": {},
     "output_type": "execute_result"
    }
   ],
   "source": [
    "sum(properties.GBA.isna())"
   ]
  },
  {
   "cell_type": "code",
   "execution_count": 37,
   "metadata": {},
   "outputs": [
    {
     "name": "stdout",
     "output_type": "stream",
     "text": [
      "40.61% of our data is missing GBA values.\n"
     ]
    }
   ],
   "source": [
    "print(str(round(sum(properties.GBA.isna()) / len(properties) * 100, 2)) + \"% of our data is missing GBA values.\")"
   ]
  },
  {
   "cell_type": "markdown",
   "metadata": {},
   "source": [
    "Since we have a decent amount of data, we have decided to get rid of the rows that have missing values."
   ]
  },
  {
   "cell_type": "code",
   "execution_count": 38,
   "metadata": {},
   "outputs": [],
   "source": [
    "properties = properties[~properties.GBA.isna()]\n",
    "properties.reset_index(inplace=True, drop=True)"
   ]
  },
  {
   "cell_type": "markdown",
   "metadata": {},
   "source": [
    "GBA's distribution:"
   ]
  },
  {
   "cell_type": "code",
   "execution_count": 39,
   "metadata": {},
   "outputs": [
    {
     "data": {
      "text/plain": [
       "count    54741.000000\n",
       "mean      1747.658117\n",
       "std        832.763023\n",
       "min          0.000000\n",
       "25%       1228.000000\n",
       "50%       1522.000000\n",
       "75%       2013.000000\n",
       "max      15902.000000\n",
       "Name: GBA, dtype: float64"
      ]
     },
     "execution_count": 39,
     "metadata": {},
     "output_type": "execute_result"
    }
   ],
   "source": [
    "properties.GBA.describe()"
   ]
  },
  {
   "cell_type": "code",
   "execution_count": 40,
   "metadata": {},
   "outputs": [
    {
     "data": {
      "text/plain": [
       "Text(0, 0.5, 'Count')"
      ]
     },
     "execution_count": 40,
     "metadata": {},
     "output_type": "execute_result"
    },
    {
     "data": {
      "image/png": "[encoded data removed]",
      "text/plain": [
       "<Figure size 432x288 with 1 Axes>"
      ]
     },
     "metadata": {
      "needs_background": "light"
     },
     "output_type": "display_data"
    }
   ],
   "source": [
    "properties.GBA.hist(bins=40)\n",
    "plt.title(\"GBA Histogram\")\n",
    "plt.xlabel(\"GBA\")\n",
    "plt.ylabel(\"Count\")"
   ]
  },
  {
   "cell_type": "markdown",
   "metadata": {},
   "source": [
    "### STYLE"
   ]
  },
  {
   "cell_type": "code",
   "execution_count": 41,
   "metadata": {},
   "outputs": [
    {
     "data": {
      "text/plain": [
       "0"
      ]
     },
     "execution_count": 41,
     "metadata": {},
     "output_type": "execute_result"
    }
   ],
   "source": [
    "sum(properties.STYLE.isna())"
   ]
  },
  {
   "cell_type": "code",
   "execution_count": 42,
   "metadata": {},
   "outputs": [
    {
     "data": {
      "text/plain": [
       "2 Story            41403\n",
       "3 Story             5479\n",
       "2.5 Story Fin       3885\n",
       "1 Story             1823\n",
       "1.5 Story Fin       1103\n",
       "2.5 Story Unfin      373\n",
       "4 Story              230\n",
       "Split Level          157\n",
       "Split Foyer          115\n",
       "3.5 Story Fin         82\n",
       "1.5 Story Unfin       51\n",
       "Default               22\n",
       "Bi-Level               8\n",
       "3.5 Story Unfin        5\n",
       "4.5 Story Unfin        2\n",
       "Vacant                 2\n",
       "4.5 Story Fin          1\n",
       "Name: STYLE, dtype: int64"
      ]
     },
     "execution_count": 42,
     "metadata": {},
     "output_type": "execute_result"
    }
   ],
   "source": [
    "properties.STYLE.value_counts()"
   ]
  },
  {
   "cell_type": "markdown",
   "metadata": {},
   "source": [
    "Dummy:"
   ]
  },
  {
   "cell_type": "code",
   "execution_count": 43,
   "metadata": {},
   "outputs": [],
   "source": [
    "style_dummies = pd.get_dummies(properties.STYLE, prefix=\"STYLE\", drop_first=True)\n",
    "properties = pd.concat([properties, style_dummies], axis=1)\n",
    "properties.drop(\"STYLE\", axis=1, inplace=True)"
   ]
  },
  {
   "cell_type": "markdown",
   "metadata": {},
   "source": [
    "### STRUCT"
   ]
  },
  {
   "cell_type": "code",
   "execution_count": 44,
   "metadata": {},
   "outputs": [
    {
     "data": {
      "text/plain": [
       "0"
      ]
     },
     "execution_count": 44,
     "metadata": {},
     "output_type": "execute_result"
    }
   ],
   "source": [
    "sum(properties.STRUCT.isna())"
   ]
  },
  {
   "cell_type": "code",
   "execution_count": 45,
   "metadata": {},
   "outputs": [
    {
     "data": {
      "text/plain": [
       "Row Inside       22233\n",
       "Single           15723\n",
       "Semi-Detached     7472\n",
       "Row End           6534\n",
       "Multi             2514\n",
       "Town Inside        182\n",
       "Town End            76\n",
       "Default              7\n",
       "Name: STRUCT, dtype: int64"
      ]
     },
     "execution_count": 45,
     "metadata": {},
     "output_type": "execute_result"
    }
   ],
   "source": [
    "properties.STRUCT.value_counts()"
   ]
  },
  {
   "cell_type": "markdown",
   "metadata": {},
   "source": [
    "Dummy:"
   ]
  },
  {
   "cell_type": "code",
   "execution_count": 46,
   "metadata": {},
   "outputs": [],
   "source": [
    "struct_dummies = pd.get_dummies(properties.STRUCT, prefix=\"STRUCT\", drop_first=True)\n",
    "properties = pd.concat([properties, struct_dummies], axis=1)\n",
    "properties.drop(\"STRUCT\", axis=1, inplace=True)"
   ]
  },
  {
   "cell_type": "markdown",
   "metadata": {},
   "source": [
    "### GRADE"
   ]
  },
  {
   "cell_type": "code",
   "execution_count": 47,
   "metadata": {},
   "outputs": [
    {
     "data": {
      "text/plain": [
       "0"
      ]
     },
     "execution_count": 47,
     "metadata": {},
     "output_type": "execute_result"
    }
   ],
   "source": [
    "sum(properties.GRADE.isna())"
   ]
  },
  {
   "cell_type": "code",
   "execution_count": 48,
   "metadata": {},
   "outputs": [
    {
     "data": {
      "text/plain": [
       "Average          17499\n",
       "Above Average    16527\n",
       "Good Quality     11598\n",
       "Very Good         4990\n",
       "Excellent         1822\n",
       "Superior          1519\n",
       "Exceptional-A      472\n",
       "Exceptional-B      168\n",
       "Fair Quality        64\n",
       "Exceptional-C       44\n",
       "Exceptional-D       32\n",
       "No Data              3\n",
       "Low Quality          3\n",
       "Name: GRADE, dtype: int64"
      ]
     },
     "execution_count": 48,
     "metadata": {},
     "output_type": "execute_result"
    }
   ],
   "source": [
    "properties.GRADE.value_counts()"
   ]
  },
  {
   "cell_type": "markdown",
   "metadata": {},
   "source": [
    "It makes sense to get rid of No Data rows."
   ]
  },
  {
   "cell_type": "code",
   "execution_count": 49,
   "metadata": {},
   "outputs": [],
   "source": [
    "properties = properties[properties.GRADE != \"No Data\"]\n",
    "properties.reset_index(inplace=True, drop=True)"
   ]
  },
  {
   "cell_type": "markdown",
   "metadata": {},
   "source": [
    "Dummy:"
   ]
  },
  {
   "cell_type": "code",
   "execution_count": 50,
   "metadata": {},
   "outputs": [],
   "source": [
    "grade_dummies = pd.get_dummies(properties.GRADE, prefix=\"GRADE\", drop_first=True)\n",
    "properties = pd.concat([properties, grade_dummies], axis=1)\n",
    "properties.drop(\"GRADE\", axis=1, inplace=True)"
   ]
  },
  {
   "cell_type": "markdown",
   "metadata": {},
   "source": [
    "### CNDTN\n",
    "Condition."
   ]
  },
  {
   "cell_type": "code",
   "execution_count": 51,
   "metadata": {},
   "outputs": [
    {
     "data": {
      "text/plain": [
       "0"
      ]
     },
     "execution_count": 51,
     "metadata": {},
     "output_type": "execute_result"
    }
   ],
   "source": [
    "sum(properties.CNDTN.isna())"
   ]
  },
  {
   "cell_type": "code",
   "execution_count": 52,
   "metadata": {},
   "outputs": [
    {
     "data": {
      "text/plain": [
       "Good         25271\n",
       "Average      21422\n",
       "Very Good     6653\n",
       "Excellent      887\n",
       "Fair           431\n",
       "Poor            73\n",
       "Default          1\n",
       "Name: CNDTN, dtype: int64"
      ]
     },
     "execution_count": 52,
     "metadata": {},
     "output_type": "execute_result"
    }
   ],
   "source": [
    "properties.CNDTN.value_counts()"
   ]
  },
  {
   "cell_type": "markdown",
   "metadata": {},
   "source": [
    "Dummy:"
   ]
  },
  {
   "cell_type": "code",
   "execution_count": 53,
   "metadata": {},
   "outputs": [],
   "source": [
    "cond_dummies = pd.get_dummies(properties.CNDTN, prefix=\"CNDTN\", drop_first=True)\n",
    "properties = pd.concat([properties, cond_dummies], axis=1)\n",
    "properties.drop(\"CNDTN\", axis=1, inplace=True)"
   ]
  },
  {
   "cell_type": "markdown",
   "metadata": {},
   "source": [
    "### EXTWALL\n",
    "Extrerior wall."
   ]
  },
  {
   "cell_type": "code",
   "execution_count": 54,
   "metadata": {},
   "outputs": [
    {
     "data": {
      "text/plain": [
       "0"
      ]
     },
     "execution_count": 54,
     "metadata": {},
     "output_type": "execute_result"
    }
   ],
   "source": [
    "sum(properties.EXTWALL.isna())"
   ]
  },
  {
   "cell_type": "code",
   "execution_count": 55,
   "metadata": {},
   "outputs": [
    {
     "data": {
      "text/plain": [
       "Common Brick      40922\n",
       "Brick/Siding       3405\n",
       "Vinyl Siding       2941\n",
       "Wood Siding        2155\n",
       "Stucco             1584\n",
       "Brick Veneer        562\n",
       "Shingle             499\n",
       "Face Brick          413\n",
       "Aluminum            410\n",
       "Brick/Stucco        393\n",
       "Brick/Stone         380\n",
       "Stone               363\n",
       "Stone/Siding        207\n",
       "Stone/Stucco        155\n",
       "Stone Veneer        141\n",
       "Hardboard            68\n",
       "Concrete             38\n",
       "Concrete Block       35\n",
       "Metal Siding         27\n",
       "Stucco Block         26\n",
       "Default               9\n",
       "Plywood               4\n",
       "Adobe                 1\n",
       "Name: EXTWALL, dtype: int64"
      ]
     },
     "execution_count": 55,
     "metadata": {},
     "output_type": "execute_result"
    }
   ],
   "source": [
    "properties.EXTWALL.value_counts()"
   ]
  },
  {
   "cell_type": "markdown",
   "metadata": {},
   "source": [
    "Dummy:"
   ]
  },
  {
   "cell_type": "code",
   "execution_count": 56,
   "metadata": {},
   "outputs": [],
   "source": [
    "exwa_dummies = pd.get_dummies(properties.EXTWALL, prefix=\"EXTWALL\", drop_first=True)\n",
    "properties = pd.concat([properties, exwa_dummies], axis=1)\n",
    "properties.drop(\"EXTWALL\", axis=1, inplace=True)"
   ]
  },
  {
   "cell_type": "markdown",
   "metadata": {},
   "source": [
    "### ROOF\n",
    "Roof type."
   ]
  },
  {
   "cell_type": "code",
   "execution_count": 57,
   "metadata": {},
   "outputs": [
    {
     "data": {
      "text/plain": [
       "0"
      ]
     },
     "execution_count": 57,
     "metadata": {},
     "output_type": "execute_result"
    }
   ],
   "source": [
    "sum(properties.ROOF.isna())"
   ]
  },
  {
   "cell_type": "code",
   "execution_count": 58,
   "metadata": {},
   "outputs": [
    {
     "data": {
      "text/plain": [
       "Built Up          16335\n",
       "Metal- Sms        15470\n",
       "Comp Shingle      15325\n",
       "Slate              5527\n",
       "Neopren             897\n",
       "Shake               351\n",
       "Clay Tile           304\n",
       "Shingle             225\n",
       "Metal- Pre          122\n",
       "Typical              83\n",
       "Composition Ro       60\n",
       "Metal- Cpr           19\n",
       "Concrete Tile        11\n",
       "Water Proof           4\n",
       "Wood- FS              4\n",
       "Concrete              1\n",
       "Name: ROOF, dtype: int64"
      ]
     },
     "execution_count": 58,
     "metadata": {},
     "output_type": "execute_result"
    }
   ],
   "source": [
    "properties.ROOF.value_counts()"
   ]
  },
  {
   "cell_type": "markdown",
   "metadata": {},
   "source": [
    "Dummy:"
   ]
  },
  {
   "cell_type": "code",
   "execution_count": 59,
   "metadata": {},
   "outputs": [],
   "source": [
    "roof_dummies = pd.get_dummies(properties.ROOF, prefix=\"ROOF\", drop_first=True)\n",
    "properties = pd.concat([properties, roof_dummies], axis=1)\n",
    "properties.drop(\"ROOF\", axis=1, inplace=True)"
   ]
  },
  {
   "cell_type": "markdown",
   "metadata": {},
   "source": [
    "### INTWALL\n",
    "Interior wall."
   ]
  },
  {
   "cell_type": "code",
   "execution_count": 60,
   "metadata": {},
   "outputs": [
    {
     "data": {
      "text/plain": [
       "0"
      ]
     },
     "execution_count": 60,
     "metadata": {},
     "output_type": "execute_result"
    }
   ],
   "source": [
    "sum(properties.INTWALL.isna())"
   ]
  },
  {
   "cell_type": "code",
   "execution_count": 61,
   "metadata": {},
   "outputs": [
    {
     "data": {
      "text/plain": [
       "Hardwood         41836\n",
       "Hardwood/Carp     7263\n",
       "Wood Floor        3625\n",
       "Carpet            1850\n",
       "Lt Concrete         46\n",
       "Ceramic Tile        37\n",
       "Default             35\n",
       "Vinyl Comp          18\n",
       "Parquet             11\n",
       "Vinyl Sheet          8\n",
       "Resiliant            6\n",
       "Terrazo              3\n",
       "Name: INTWALL, dtype: int64"
      ]
     },
     "execution_count": 61,
     "metadata": {},
     "output_type": "execute_result"
    }
   ],
   "source": [
    "properties.INTWALL.value_counts()"
   ]
  },
  {
   "cell_type": "markdown",
   "metadata": {},
   "source": [
    "Dummy:"
   ]
  },
  {
   "cell_type": "code",
   "execution_count": 62,
   "metadata": {},
   "outputs": [],
   "source": [
    "inwa_dummies = pd.get_dummies(properties.INTWALL, prefix=\"INTWALL\", drop_first=True)\n",
    "properties = pd.concat([properties, inwa_dummies], axis=1)\n",
    "properties.drop(\"INTWALL\", axis=1, inplace=True)"
   ]
  },
  {
   "cell_type": "markdown",
   "metadata": {},
   "source": [
    "### BATHRM"
   ]
  },
  {
   "cell_type": "code",
   "execution_count": 63,
   "metadata": {},
   "outputs": [
    {
     "data": {
      "text/plain": [
       "0"
      ]
     },
     "execution_count": 63,
     "metadata": {},
     "output_type": "execute_result"
    }
   ],
   "source": [
    "sum(properties.BATHRM.isna())"
   ]
  },
  {
   "cell_type": "code",
   "execution_count": 64,
   "metadata": {},
   "outputs": [
    {
     "data": {
      "text/plain": [
       "count    54738.000000\n",
       "mean         2.242793\n",
       "std          1.060817\n",
       "min          0.000000\n",
       "25%          1.000000\n",
       "50%          2.000000\n",
       "75%          3.000000\n",
       "max         12.000000\n",
       "Name: BATHRM, dtype: float64"
      ]
     },
     "execution_count": 64,
     "metadata": {},
     "output_type": "execute_result"
    }
   ],
   "source": [
    "properties.BATHRM.describe()"
   ]
  },
  {
   "cell_type": "code",
   "execution_count": 65,
   "metadata": {},
   "outputs": [
    {
     "data": {
      "text/plain": [
       "2     20590\n",
       "1     14509\n",
       "3     13367\n",
       "4      4972\n",
       "5       845\n",
       "6       303\n",
       "7        81\n",
       "8        33\n",
       "0        16\n",
       "9        11\n",
       "10        7\n",
       "11        3\n",
       "12        1\n",
       "Name: BATHRM, dtype: int64"
      ]
     },
     "execution_count": 65,
     "metadata": {},
     "output_type": "execute_result"
    }
   ],
   "source": [
    "properties.BATHRM.value_counts()"
   ]
  },
  {
   "cell_type": "markdown",
   "metadata": {},
   "source": [
    "It doesn't make sense to not have a bathroom."
   ]
  },
  {
   "cell_type": "code",
   "execution_count": 66,
   "metadata": {},
   "outputs": [],
   "source": [
    "properties = properties[properties.BATHRM > 0]\n",
    "properties.reset_index(inplace=True, drop=True)"
   ]
  },
  {
   "cell_type": "markdown",
   "metadata": {},
   "source": [
    "Dummy:"
   ]
  },
  {
   "cell_type": "code",
   "execution_count": 67,
   "metadata": {},
   "outputs": [],
   "source": [
    "bath_dummies = pd.get_dummies(properties.BATHRM, prefix=\"BATHRM\", drop_first=True)\n",
    "properties = pd.concat([properties, bath_dummies], axis=1)\n",
    "properties.drop(\"BATHRM\", axis=1, inplace=True)"
   ]
  },
  {
   "cell_type": "markdown",
   "metadata": {},
   "source": [
    "### HF_BATHRM"
   ]
  },
  {
   "cell_type": "code",
   "execution_count": 68,
   "metadata": {},
   "outputs": [
    {
     "data": {
      "text/plain": [
       "0"
      ]
     },
     "execution_count": 68,
     "metadata": {},
     "output_type": "execute_result"
    }
   ],
   "source": [
    "sum(properties.HF_BATHRM.isna())"
   ]
  },
  {
   "cell_type": "code",
   "execution_count": 69,
   "metadata": {},
   "outputs": [
    {
     "data": {
      "text/plain": [
       "count    54722.000000\n",
       "mean         0.670334\n",
       "std          0.606411\n",
       "min          0.000000\n",
       "25%          0.000000\n",
       "50%          1.000000\n",
       "75%          1.000000\n",
       "max         11.000000\n",
       "Name: HF_BATHRM, dtype: float64"
      ]
     },
     "execution_count": 69,
     "metadata": {},
     "output_type": "execute_result"
    }
   ],
   "source": [
    "properties.HF_BATHRM.describe()"
   ]
  },
  {
   "cell_type": "code",
   "execution_count": 70,
   "metadata": {},
   "outputs": [
    {
     "data": {
      "text/plain": [
       "1     29542\n",
       "0     21724\n",
       "2      3284\n",
       "3       136\n",
       "4        26\n",
       "5         7\n",
       "7         2\n",
       "11        1\n",
       "Name: HF_BATHRM, dtype: int64"
      ]
     },
     "execution_count": 70,
     "metadata": {},
     "output_type": "execute_result"
    }
   ],
   "source": [
    "properties.HF_BATHRM.value_counts()"
   ]
  },
  {
   "cell_type": "markdown",
   "metadata": {},
   "source": [
    "Dummy:"
   ]
  },
  {
   "cell_type": "code",
   "execution_count": 71,
   "metadata": {},
   "outputs": [],
   "source": [
    "hf_bath_dummies = pd.get_dummies(properties.HF_BATHRM, prefix=\"HF_BATHRM\", drop_first=True)\n",
    "properties = pd.concat([properties, hf_bath_dummies], axis=1)\n",
    "properties.drop(\"HF_BATHRM\", axis=1, inplace=True)"
   ]
  },
  {
   "cell_type": "markdown",
   "metadata": {},
   "source": [
    "### HEAT"
   ]
  },
  {
   "cell_type": "code",
   "execution_count": 72,
   "metadata": {},
   "outputs": [
    {
     "data": {
      "text/plain": [
       "0"
      ]
     },
     "execution_count": 72,
     "metadata": {},
     "output_type": "execute_result"
    }
   ],
   "source": [
    "sum(properties.HEAT.isna())"
   ]
  },
  {
   "cell_type": "code",
   "execution_count": 73,
   "metadata": {},
   "outputs": [
    {
     "data": {
      "text/plain": [
       "count          54722\n",
       "unique            14\n",
       "top       Forced Air\n",
       "freq           21016\n",
       "Name: HEAT, dtype: object"
      ]
     },
     "execution_count": 73,
     "metadata": {},
     "output_type": "execute_result"
    }
   ],
   "source": [
    "properties.HEAT.describe()"
   ]
  },
  {
   "cell_type": "code",
   "execution_count": 74,
   "metadata": {},
   "outputs": [
    {
     "data": {
      "text/plain": [
       "Forced Air        21016\n",
       "Hot Water Rad     18944\n",
       "Warm Cool         13614\n",
       "Ht Pump             776\n",
       "Water Base Brd       91\n",
       "Wall Furnace         72\n",
       "Elec Base Brd        65\n",
       "Electric Rad         35\n",
       "Air-Oil              35\n",
       "Gravity Furnac       32\n",
       "No Data              13\n",
       "Air Exchng           12\n",
       "Evp Cool             11\n",
       "Ind Unit              6\n",
       "Name: HEAT, dtype: int64"
      ]
     },
     "execution_count": 74,
     "metadata": {},
     "output_type": "execute_result"
    }
   ],
   "source": [
    "properties.HEAT.value_counts()"
   ]
  },
  {
   "cell_type": "markdown",
   "metadata": {},
   "source": [
    "It makes sense to get rid of No Data rows."
   ]
  },
  {
   "cell_type": "code",
   "execution_count": 75,
   "metadata": {},
   "outputs": [],
   "source": [
    "properties = properties[properties.HEAT != \"No Data\"]\n",
    "properties.reset_index(inplace=True, drop=True)"
   ]
  },
  {
   "cell_type": "code",
   "execution_count": 76,
   "metadata": {},
   "outputs": [
    {
     "data": {
      "text/plain": [
       "(54709, 146)"
      ]
     },
     "execution_count": 76,
     "metadata": {},
     "output_type": "execute_result"
    }
   ],
   "source": [
    "properties.shape"
   ]
  },
  {
   "cell_type": "markdown",
   "metadata": {},
   "source": [
    "Dummy:"
   ]
  },
  {
   "cell_type": "code",
   "execution_count": 77,
   "metadata": {},
   "outputs": [],
   "source": [
    "heat_dummies = pd.get_dummies(properties.HEAT, prefix=\"HEAT\", drop_first=True)\n",
    "properties = pd.concat([properties, heat_dummies], axis=1)\n",
    "properties.drop(\"HEAT\", axis=1, inplace=True)"
   ]
  },
  {
   "cell_type": "markdown",
   "metadata": {},
   "source": [
    "### AC"
   ]
  },
  {
   "cell_type": "code",
   "execution_count": 78,
   "metadata": {},
   "outputs": [
    {
     "data": {
      "text/plain": [
       "0"
      ]
     },
     "execution_count": 78,
     "metadata": {},
     "output_type": "execute_result"
    }
   ],
   "source": [
    "sum(properties.AC.isna())"
   ]
  },
  {
   "cell_type": "code",
   "execution_count": 79,
   "metadata": {},
   "outputs": [
    {
     "data": {
      "text/plain": [
       "count     54709\n",
       "unique        3\n",
       "top           Y\n",
       "freq      40979\n",
       "Name: AC, dtype: object"
      ]
     },
     "execution_count": 79,
     "metadata": {},
     "output_type": "execute_result"
    }
   ],
   "source": [
    "properties.AC.describe()"
   ]
  },
  {
   "cell_type": "code",
   "execution_count": 80,
   "metadata": {},
   "outputs": [
    {
     "data": {
      "text/plain": [
       "Y    40979\n",
       "N    13718\n",
       "0       12\n",
       "Name: AC, dtype: int64"
      ]
     },
     "execution_count": 80,
     "metadata": {},
     "output_type": "execute_result"
    }
   ],
   "source": [
    "properties.AC.value_counts()"
   ]
  },
  {
   "cell_type": "markdown",
   "metadata": {},
   "source": [
    "It makes sense to get rid of 0 rows."
   ]
  },
  {
   "cell_type": "code",
   "execution_count": 81,
   "metadata": {},
   "outputs": [],
   "source": [
    "properties = properties[properties.AC != \"0\"]\n",
    "properties.reset_index(inplace=True, drop=True)"
   ]
  },
  {
   "cell_type": "markdown",
   "metadata": {},
   "source": [
    "Dummy:"
   ]
  },
  {
   "cell_type": "code",
   "execution_count": 82,
   "metadata": {},
   "outputs": [],
   "source": [
    "ac_dummies = pd.get_dummies(properties.AC, prefix=\"AC\", drop_first=True)\n",
    "properties = pd.concat([properties, ac_dummies], axis=1)\n",
    "properties.drop(\"AC\", axis=1, inplace=True)"
   ]
  },
  {
   "cell_type": "markdown",
   "metadata": {},
   "source": [
    "### NUM_UNITS"
   ]
  },
  {
   "cell_type": "code",
   "execution_count": 83,
   "metadata": {},
   "outputs": [
    {
     "data": {
      "text/plain": [
       "0"
      ]
     },
     "execution_count": 83,
     "metadata": {},
     "output_type": "execute_result"
    }
   ],
   "source": [
    "sum(properties.NUM_UNITS.isna())"
   ]
  },
  {
   "cell_type": "code",
   "execution_count": 84,
   "metadata": {},
   "outputs": [
    {
     "data": {
      "text/plain": [
       "count    54697.000000\n",
       "mean         1.218586\n",
       "std          0.617154\n",
       "min          0.000000\n",
       "25%          1.000000\n",
       "50%          1.000000\n",
       "75%          1.000000\n",
       "max          6.000000\n",
       "Name: NUM_UNITS, dtype: float64"
      ]
     },
     "execution_count": 84,
     "metadata": {},
     "output_type": "execute_result"
    }
   ],
   "source": [
    "properties.NUM_UNITS.describe()"
   ]
  },
  {
   "cell_type": "code",
   "execution_count": 85,
   "metadata": {},
   "outputs": [
    {
     "data": {
      "text/plain": [
       "1.0    46624\n",
       "2.0     5768\n",
       "4.0     1694\n",
       "3.0      558\n",
       "0.0       45\n",
       "5.0        5\n",
       "6.0        3\n",
       "Name: NUM_UNITS, dtype: int64"
      ]
     },
     "execution_count": 85,
     "metadata": {},
     "output_type": "execute_result"
    }
   ],
   "source": [
    "properties.NUM_UNITS.value_counts()"
   ]
  },
  {
   "cell_type": "markdown",
   "metadata": {},
   "source": [
    "Dummy:"
   ]
  },
  {
   "cell_type": "code",
   "execution_count": 86,
   "metadata": {},
   "outputs": [],
   "source": [
    "unit_dummies = pd.get_dummies(properties.NUM_UNITS, prefix=\"NUM_UNITS\", drop_first=True)\n",
    "properties = pd.concat([properties, unit_dummies], axis=1)\n",
    "properties.drop(\"NUM_UNITS\", axis=1, inplace=True)"
   ]
  },
  {
   "cell_type": "markdown",
   "metadata": {},
   "source": [
    "### ROOMS"
   ]
  },
  {
   "cell_type": "code",
   "execution_count": 87,
   "metadata": {},
   "outputs": [
    {
     "data": {
      "text/plain": [
       "0"
      ]
     },
     "execution_count": 87,
     "metadata": {},
     "output_type": "execute_result"
    }
   ],
   "source": [
    "sum(properties.ROOMS.isna())"
   ]
  },
  {
   "cell_type": "code",
   "execution_count": 88,
   "metadata": {},
   "outputs": [
    {
     "data": {
      "text/plain": [
       "count    54697.000000\n",
       "mean         7.494652\n",
       "std          2.295094\n",
       "min          0.000000\n",
       "25%          6.000000\n",
       "50%          7.000000\n",
       "75%          8.000000\n",
       "max         31.000000\n",
       "Name: ROOMS, dtype: float64"
      ]
     },
     "execution_count": 88,
     "metadata": {},
     "output_type": "execute_result"
    }
   ],
   "source": [
    "properties.ROOMS.describe()"
   ]
  },
  {
   "cell_type": "code",
   "execution_count": 89,
   "metadata": {},
   "outputs": [
    {
     "data": {
      "text/plain": [
       "6     16998\n",
       "7     10924\n",
       "8      8854\n",
       "5      4294\n",
       "9      4083\n",
       "10     3499\n",
       "12     1685\n",
       "11     1316\n",
       "4      1062\n",
       "16      731\n",
       "13      417\n",
       "14      305\n",
       "15      165\n",
       "3       103\n",
       "20       75\n",
       "18       65\n",
       "17       34\n",
       "2        20\n",
       "0        20\n",
       "19       16\n",
       "21        8\n",
       "24        6\n",
       "23        5\n",
       "22        4\n",
       "25        3\n",
       "28        2\n",
       "30        1\n",
       "26        1\n",
       "31        1\n",
       "Name: ROOMS, dtype: int64"
      ]
     },
     "execution_count": 89,
     "metadata": {},
     "output_type": "execute_result"
    }
   ],
   "source": [
    "properties.ROOMS.value_counts()"
   ]
  },
  {
   "cell_type": "markdown",
   "metadata": {},
   "source": [
    "It doesn't make sense to not have a room."
   ]
  },
  {
   "cell_type": "code",
   "execution_count": 90,
   "metadata": {},
   "outputs": [],
   "source": [
    "properties = properties[properties.ROOMS > 0]\n",
    "properties.reset_index(inplace=True, drop=True)"
   ]
  },
  {
   "cell_type": "markdown",
   "metadata": {},
   "source": [
    "Dummy:"
   ]
  },
  {
   "cell_type": "code",
   "execution_count": 91,
   "metadata": {},
   "outputs": [],
   "source": [
    "rooms_dummies = pd.get_dummies(properties.ROOMS, prefix=\"ROOMS\", drop_first=True)\n",
    "properties = pd.concat([properties, rooms_dummies], axis=1)\n",
    "properties.drop(\"ROOMS\", axis=1, inplace=True)"
   ]
  },
  {
   "cell_type": "markdown",
   "metadata": {},
   "source": [
    "### BEDRM"
   ]
  },
  {
   "cell_type": "code",
   "execution_count": 92,
   "metadata": {},
   "outputs": [
    {
     "data": {
      "text/plain": [
       "0"
      ]
     },
     "execution_count": 92,
     "metadata": {},
     "output_type": "execute_result"
    }
   ],
   "source": [
    "sum(properties.BEDRM.isna())"
   ]
  },
  {
   "cell_type": "code",
   "execution_count": 93,
   "metadata": {},
   "outputs": [
    {
     "data": {
      "text/plain": [
       "count    54677.000000\n",
       "mean         3.452347\n",
       "std          1.112952\n",
       "min          0.000000\n",
       "25%          3.000000\n",
       "50%          3.000000\n",
       "75%          4.000000\n",
       "max         20.000000\n",
       "Name: BEDRM, dtype: float64"
      ]
     },
     "execution_count": 93,
     "metadata": {},
     "output_type": "execute_result"
    }
   ],
   "source": [
    "properties.BEDRM.describe()"
   ]
  },
  {
   "cell_type": "code",
   "execution_count": 94,
   "metadata": {},
   "outputs": [
    {
     "data": {
      "text/plain": [
       "3     26099\n",
       "4     13984\n",
       "2      7398\n",
       "5      4202\n",
       "6      1826\n",
       "7       441\n",
       "8       432\n",
       "1       172\n",
       "9        52\n",
       "10       22\n",
       "0        19\n",
       "12       18\n",
       "11        8\n",
       "15        1\n",
       "13        1\n",
       "14        1\n",
       "20        1\n",
       "Name: BEDRM, dtype: int64"
      ]
     },
     "execution_count": 94,
     "metadata": {},
     "output_type": "execute_result"
    }
   ],
   "source": [
    "properties.BEDRM.value_counts()"
   ]
  },
  {
   "cell_type": "markdown",
   "metadata": {},
   "source": [
    "Studios technically don't have a bedroom."
   ]
  },
  {
   "cell_type": "markdown",
   "metadata": {},
   "source": [
    "Dummy:"
   ]
  },
  {
   "cell_type": "code",
   "execution_count": 95,
   "metadata": {},
   "outputs": [],
   "source": [
    "bed_rooms_dummies = pd.get_dummies(properties.BEDRM, prefix=\"BEDRM\", drop_first=True)\n",
    "properties = pd.concat([properties, bed_rooms_dummies], axis=1)\n",
    "properties.drop(\"BEDRM\", axis=1, inplace=True)"
   ]
  },
  {
   "cell_type": "markdown",
   "metadata": {},
   "source": [
    "### AYB\n",
    "The earliest time the main portion of the building was built."
   ]
  },
  {
   "cell_type": "code",
   "execution_count": 96,
   "metadata": {},
   "outputs": [
    {
     "data": {
      "text/plain": [
       "81"
      ]
     },
     "execution_count": 96,
     "metadata": {},
     "output_type": "execute_result"
    }
   ],
   "source": [
    "sum(properties.AYB.isna())"
   ]
  },
  {
   "cell_type": "code",
   "execution_count": 97,
   "metadata": {},
   "outputs": [
    {
     "data": {
      "text/plain": [
       "count    54596.000000\n",
       "mean      1934.582863\n",
       "std         31.002298\n",
       "min       1754.000000\n",
       "25%       1913.000000\n",
       "50%       1928.000000\n",
       "75%       1947.000000\n",
       "max       2018.000000\n",
       "Name: AYB, dtype: float64"
      ]
     },
     "execution_count": 97,
     "metadata": {},
     "output_type": "execute_result"
    }
   ],
   "source": [
    "properties.AYB.describe()"
   ]
  },
  {
   "cell_type": "markdown",
   "metadata": {},
   "source": [
    "It doesn't hurt to get rid of the rows with missing data."
   ]
  },
  {
   "cell_type": "code",
   "execution_count": 98,
   "metadata": {},
   "outputs": [],
   "source": [
    "properties = properties[~properties.AYB.isna()]\n",
    "properties.reset_index(inplace=True, drop=True)"
   ]
  },
  {
   "cell_type": "markdown",
   "metadata": {},
   "source": [
    "AYB's distribution:"
   ]
  },
  {
   "cell_type": "code",
   "execution_count": 99,
   "metadata": {},
   "outputs": [
    {
     "data": {
      "text/plain": [
       "Text(0, 0.5, 'Count')"
      ]
     },
     "execution_count": 99,
     "metadata": {},
     "output_type": "execute_result"
    },
    {
     "data": {
      "image/png": "[encoded data removed]",
      "text/plain": [
       "<Figure size 432x288 with 1 Axes>"
      ]
     },
     "metadata": {
      "needs_background": "light"
     },
     "output_type": "display_data"
    }
   ],
   "source": [
    "properties.AYB.hist(bins=40)\n",
    "plt.title(\"AYB Histogram\")\n",
    "plt.xlabel(\"AYB\")\n",
    "plt.ylabel(\"Count\")"
   ]
  },
  {
   "cell_type": "markdown",
   "metadata": {},
   "source": [
    "### YR_RMDL\n",
    "Year structure was remodeled."
   ]
  },
  {
   "cell_type": "code",
   "execution_count": 100,
   "metadata": {},
   "outputs": [
    {
     "data": {
      "text/plain": [
       "22321"
      ]
     },
     "execution_count": 100,
     "metadata": {},
     "output_type": "execute_result"
    }
   ],
   "source": [
    "sum(properties.YR_RMDL.isna())"
   ]
  },
  {
   "cell_type": "code",
   "execution_count": 101,
   "metadata": {},
   "outputs": [
    {
     "name": "stdout",
     "output_type": "stream",
     "text": [
      "40.88% of our data is missing YR_RMDL values.\n"
     ]
    }
   ],
   "source": [
    "print(str(round(sum(properties.YR_RMDL.isna()) / len(properties) * 100, 2)) + \"% of our data is missing YR_RMDL values.\")"
   ]
  },
  {
   "cell_type": "markdown",
   "metadata": {},
   "source": [
    "We have decided to get rid of this feature due to the large number of rows missing data."
   ]
  },
  {
   "cell_type": "code",
   "execution_count": 102,
   "metadata": {},
   "outputs": [],
   "source": [
    "properties.drop(\"YR_RMDL\", axis=1, inplace=True)"
   ]
  },
  {
   "cell_type": "markdown",
   "metadata": {},
   "source": [
    "### EYB\n",
    "The year an improvement was built more recent than actual year built."
   ]
  },
  {
   "cell_type": "code",
   "execution_count": 103,
   "metadata": {},
   "outputs": [
    {
     "data": {
      "text/plain": [
       "0"
      ]
     },
     "execution_count": 103,
     "metadata": {},
     "output_type": "execute_result"
    }
   ],
   "source": [
    "sum(properties.EYB.isna())"
   ]
  },
  {
   "cell_type": "code",
   "execution_count": 104,
   "metadata": {},
   "outputs": [
    {
     "data": {
      "text/plain": [
       "count    54596.000000\n",
       "mean      1970.493754\n",
       "std         16.887684\n",
       "min       1915.000000\n",
       "25%       1960.000000\n",
       "50%       1967.000000\n",
       "75%       1976.000000\n",
       "max       2018.000000\n",
       "Name: EYB, dtype: float64"
      ]
     },
     "execution_count": 104,
     "metadata": {},
     "output_type": "execute_result"
    }
   ],
   "source": [
    "properties.EYB.describe()"
   ]
  },
  {
   "cell_type": "markdown",
   "metadata": {},
   "source": [
    "EYB's distribution:"
   ]
  },
  {
   "cell_type": "code",
   "execution_count": 105,
   "metadata": {},
   "outputs": [
    {
     "data": {
      "text/plain": [
       "Text(0, 0.5, 'Count')"
      ]
     },
     "execution_count": 105,
     "metadata": {},
     "output_type": "execute_result"
    },
    {
     "data": {
      "image/png": "[encoded data removed]",
      "text/plain": [
       "<Figure size 432x288 with 1 Axes>"
      ]
     },
     "metadata": {
      "needs_background": "light"
     },
     "output_type": "display_data"
    }
   ],
   "source": [
    "properties.EYB.hist(bins=30)\n",
    "plt.title(\"EYB Histogram\")\n",
    "plt.xlabel(\"EYB\")\n",
    "plt.ylabel(\"Count\")"
   ]
  },
  {
   "cell_type": "markdown",
   "metadata": {},
   "source": [
    "### STORIES\n",
    "Number of stories in primary dwelling."
   ]
  },
  {
   "cell_type": "code",
   "execution_count": 106,
   "metadata": {},
   "outputs": [
    {
     "data": {
      "text/plain": [
       "32"
      ]
     },
     "execution_count": 106,
     "metadata": {},
     "output_type": "execute_result"
    }
   ],
   "source": [
    "sum(properties.STORIES.isna())"
   ]
  },
  {
   "cell_type": "markdown",
   "metadata": {},
   "source": [
    "It makes sense to get rid of the rows with missing data."
   ]
  },
  {
   "cell_type": "code",
   "execution_count": 107,
   "metadata": {},
   "outputs": [],
   "source": [
    "properties = properties[~properties.STORIES.isna()]\n",
    "properties.reset_index(inplace=True, drop=True)"
   ]
  },
  {
   "cell_type": "code",
   "execution_count": 108,
   "metadata": {},
   "outputs": [
    {
     "data": {
      "text/plain": [
       "count    54564.000000\n",
       "mean         2.132690\n",
       "std          4.064931\n",
       "min          0.000000\n",
       "25%          2.000000\n",
       "50%          2.000000\n",
       "75%          2.000000\n",
       "max        826.000000\n",
       "Name: STORIES, dtype: float64"
      ]
     },
     "execution_count": 108,
     "metadata": {},
     "output_type": "execute_result"
    }
   ],
   "source": [
    "properties.STORIES.describe()"
   ]
  },
  {
   "cell_type": "code",
   "execution_count": 109,
   "metadata": {},
   "outputs": [
    {
     "data": {
      "text/plain": [
       "2.00      40327\n",
       "3.00       5320\n",
       "2.50       3328\n",
       "1.00       1927\n",
       "2.25       1275\n",
       "1.50        955\n",
       "1.75        576\n",
       "2.75        264\n",
       "4.00        234\n",
       "1.25        199\n",
       "3.50         61\n",
       "2.70         14\n",
       "3.25         14\n",
       "3.75         10\n",
       "9.00         10\n",
       "0.00         10\n",
       "5.00          9\n",
       "2.20          8\n",
       "6.00          5\n",
       "25.00         4\n",
       "2.30          3\n",
       "1.70          3\n",
       "275.00        2\n",
       "3.70          1\n",
       "8.25          1\n",
       "0.25          1\n",
       "20.00         1\n",
       "250.00        1\n",
       "826.00        1\n",
       "Name: STORIES, dtype: int64"
      ]
     },
     "execution_count": 109,
     "metadata": {},
     "output_type": "execute_result"
    }
   ],
   "source": [
    "properties.STORIES.value_counts()"
   ]
  },
  {
   "cell_type": "markdown",
   "metadata": {},
   "source": [
    "There's no way a building has more than 200 stories.<br>It makes sense to get rid of the rows whose stories are greater than 25."
   ]
  },
  {
   "cell_type": "code",
   "execution_count": 110,
   "metadata": {},
   "outputs": [],
   "source": [
    "properties = properties[~(properties.STORIES > 25)]\n",
    "properties.reset_index(inplace=True, drop=True)"
   ]
  },
  {
   "cell_type": "markdown",
   "metadata": {},
   "source": [
    "Dummy:"
   ]
  },
  {
   "cell_type": "code",
   "execution_count": 111,
   "metadata": {},
   "outputs": [],
   "source": [
    "stories_dummies = pd.get_dummies(properties.STORIES, prefix=\"STORIES\", drop_first=True)\n",
    "properties = pd.concat([properties, stories_dummies], axis=1)\n",
    "properties.drop(\"STORIES\", axis=1, inplace=True)"
   ]
  },
  {
   "cell_type": "markdown",
   "metadata": {},
   "source": [
    "### SALEDATE\n",
    "Date of most recent sale."
   ]
  },
  {
   "cell_type": "code",
   "execution_count": 112,
   "metadata": {},
   "outputs": [
    {
     "data": {
      "text/plain": [
       "0"
      ]
     },
     "execution_count": 112,
     "metadata": {},
     "output_type": "execute_result"
    }
   ],
   "source": [
    "sum(properties.SALEDATE.isna())"
   ]
  },
  {
   "cell_type": "code",
   "execution_count": 113,
   "metadata": {},
   "outputs": [
    {
     "data": {
      "text/plain": [
       "count                   54560\n",
       "unique                   6305\n",
       "top       2018-07-03 00:00:00\n",
       "freq                       55\n",
       "Name: SALEDATE, dtype: object"
      ]
     },
     "execution_count": 113,
     "metadata": {},
     "output_type": "execute_result"
    }
   ],
   "source": [
    "properties.SALEDATE.describe()"
   ]
  },
  {
   "cell_type": "code",
   "execution_count": 114,
   "metadata": {},
   "outputs": [
    {
     "data": {
      "text/plain": [
       "0    2003-11-25 00:00:00\n",
       "1    2016-06-21 00:00:00\n",
       "2    2006-07-12 00:00:00\n",
       "3    2010-02-26 00:00:00\n",
       "4    2011-09-29 00:00:00\n",
       "Name: SALEDATE, dtype: object"
      ]
     },
     "execution_count": 114,
     "metadata": {},
     "output_type": "execute_result"
    }
   ],
   "source": [
    "properties.SALEDATE.head()"
   ]
  },
  {
   "cell_type": "code",
   "execution_count": 115,
   "metadata": {},
   "outputs": [],
   "source": [
    "properties.SALEDATE = pd.to_datetime(properties.SALEDATE, format=\"%Y/%m/%d\")"
   ]
  },
  {
   "cell_type": "markdown",
   "metadata": {},
   "source": [
    "SALEDATE's distribution:"
   ]
  },
  {
   "cell_type": "code",
   "execution_count": 116,
   "metadata": {},
   "outputs": [
    {
     "data": {
      "text/plain": [
       "Text(0, 0.5, 'Count')"
      ]
     },
     "execution_count": 116,
     "metadata": {},
     "output_type": "execute_result"
    },
    {
     "data": {
      "image/png": "[encoded data removed]",
      "text/plain": [
       "<Figure size 432x288 with 1 Axes>"
      ]
     },
     "metadata": {
      "needs_background": "light"
     },
     "output_type": "display_data"
    }
   ],
   "source": [
    "properties.SALEDATE.hist(bins=30)\n",
    "plt.title(\"SALEDATE Histogram\")\n",
    "plt.xlabel(\"SALEDATE\")\n",
    "plt.ylabel(\"Count\")"
   ]
  },
  {
   "cell_type": "markdown",
   "metadata": {},
   "source": [
    "### QUALIFIED"
   ]
  },
  {
   "cell_type": "code",
   "execution_count": 117,
   "metadata": {},
   "outputs": [
    {
     "data": {
      "text/plain": [
       "0"
      ]
     },
     "execution_count": 117,
     "metadata": {},
     "output_type": "execute_result"
    }
   ],
   "source": [
    "sum(properties.QUALIFIED.isna())"
   ]
  },
  {
   "cell_type": "code",
   "execution_count": 118,
   "metadata": {},
   "outputs": [
    {
     "data": {
      "text/plain": [
       "count     54560\n",
       "unique        2\n",
       "top           Q\n",
       "freq      44336\n",
       "Name: QUALIFIED, dtype: object"
      ]
     },
     "execution_count": 118,
     "metadata": {},
     "output_type": "execute_result"
    }
   ],
   "source": [
    "properties.QUALIFIED.describe()"
   ]
  },
  {
   "cell_type": "code",
   "execution_count": 119,
   "metadata": {},
   "outputs": [
    {
     "data": {
      "text/plain": [
       "Q    44336\n",
       "U    10224\n",
       "Name: QUALIFIED, dtype: int64"
      ]
     },
     "execution_count": 119,
     "metadata": {},
     "output_type": "execute_result"
    }
   ],
   "source": [
    "properties.QUALIFIED.value_counts()"
   ]
  },
  {
   "cell_type": "markdown",
   "metadata": {},
   "source": [
    "Dummy:"
   ]
  },
  {
   "cell_type": "code",
   "execution_count": 120,
   "metadata": {},
   "outputs": [],
   "source": [
    "qualified_dummies = pd.get_dummies(properties.QUALIFIED, prefix=\"QUALIFIED\", drop_first=True)\n",
    "properties = pd.concat([properties, qualified_dummies], axis=1)\n",
    "properties.drop(\"QUALIFIED\", axis=1, inplace=True)"
   ]
  },
  {
   "cell_type": "markdown",
   "metadata": {},
   "source": [
    "### SALE_NUM"
   ]
  },
  {
   "cell_type": "code",
   "execution_count": 121,
   "metadata": {},
   "outputs": [
    {
     "data": {
      "text/plain": [
       "0"
      ]
     },
     "execution_count": 121,
     "metadata": {},
     "output_type": "execute_result"
    }
   ],
   "source": [
    "sum(properties.SALE_NUM.isna())"
   ]
  },
  {
   "cell_type": "code",
   "execution_count": 122,
   "metadata": {},
   "outputs": [
    {
     "data": {
      "text/plain": [
       "count    54560.000000\n",
       "mean         1.898864\n",
       "std          1.479083\n",
       "min          1.000000\n",
       "25%          1.000000\n",
       "50%          1.000000\n",
       "75%          3.000000\n",
       "max         15.000000\n",
       "Name: SALE_NUM, dtype: float64"
      ]
     },
     "execution_count": 122,
     "metadata": {},
     "output_type": "execute_result"
    }
   ],
   "source": [
    "properties.SALE_NUM.describe()"
   ]
  },
  {
   "cell_type": "code",
   "execution_count": 123,
   "metadata": {},
   "outputs": [
    {
     "data": {
      "text/plain": [
       "1     35474\n",
       "3      6265\n",
       "4      4517\n",
       "2      4398\n",
       "5      2195\n",
       "6      1013\n",
       "7       401\n",
       "8       166\n",
       "9        80\n",
       "10       26\n",
       "11       12\n",
       "12        6\n",
       "13        3\n",
       "15        2\n",
       "14        2\n",
       "Name: SALE_NUM, dtype: int64"
      ]
     },
     "execution_count": 123,
     "metadata": {},
     "output_type": "execute_result"
    }
   ],
   "source": [
    "properties.SALE_NUM.value_counts()"
   ]
  },
  {
   "cell_type": "markdown",
   "metadata": {},
   "source": [
    "Dummy:"
   ]
  },
  {
   "cell_type": "code",
   "execution_count": 124,
   "metadata": {},
   "outputs": [],
   "source": [
    "sale_dummies = pd.get_dummies(properties.SALE_NUM, prefix=\"SALE_NUM\", drop_first=True)\n",
    "properties = pd.concat([properties, sale_dummies], axis=1)\n",
    "properties.drop(\"SALE_NUM\", axis=1, inplace=True)"
   ]
  },
  {
   "cell_type": "markdown",
   "metadata": {},
   "source": [
    "### BLDG_NUM\n",
    "Building Number on Property."
   ]
  },
  {
   "cell_type": "code",
   "execution_count": 125,
   "metadata": {},
   "outputs": [
    {
     "data": {
      "text/plain": [
       "0"
      ]
     },
     "execution_count": 125,
     "metadata": {},
     "output_type": "execute_result"
    }
   ],
   "source": [
    "sum(properties.BLDG_NUM.isna())"
   ]
  },
  {
   "cell_type": "code",
   "execution_count": 126,
   "metadata": {},
   "outputs": [
    {
     "data": {
      "text/plain": [
       "1    54548\n",
       "2       12\n",
       "Name: BLDG_NUM, dtype: int64"
      ]
     },
     "execution_count": 126,
     "metadata": {},
     "output_type": "execute_result"
    }
   ],
   "source": [
    "properties.BLDG_NUM.value_counts()"
   ]
  },
  {
   "cell_type": "code",
   "execution_count": 127,
   "metadata": {},
   "outputs": [
    {
     "data": {
      "text/plain": [
       "1    0.99978\n",
       "2    0.00022\n",
       "Name: BLDG_NUM, dtype: float64"
      ]
     },
     "execution_count": 127,
     "metadata": {},
     "output_type": "execute_result"
    }
   ],
   "source": [
    "properties.BLDG_NUM.value_counts(normalize=True)"
   ]
  },
  {
   "cell_type": "markdown",
   "metadata": {},
   "source": [
    "Dummy:"
   ]
  },
  {
   "cell_type": "code",
   "execution_count": 128,
   "metadata": {},
   "outputs": [],
   "source": [
    "bldg_num_dummies = pd.get_dummies(properties.BLDG_NUM, prefix=\"BLDG_NUM\", drop_first=True)\n",
    "properties = pd.concat([properties, bldg_num_dummies], axis=1)\n",
    "properties.drop(\"BLDG_NUM\", axis=1, inplace=True)"
   ]
  },
  {
   "cell_type": "markdown",
   "metadata": {},
   "source": [
    "### KITCHENS"
   ]
  },
  {
   "cell_type": "code",
   "execution_count": 129,
   "metadata": {},
   "outputs": [
    {
     "data": {
      "text/plain": [
       "1"
      ]
     },
     "execution_count": 129,
     "metadata": {},
     "output_type": "execute_result"
    }
   ],
   "source": [
    "sum(properties.KITCHENS.isna())"
   ]
  },
  {
   "cell_type": "markdown",
   "metadata": {},
   "source": [
    "It makes sense to get rid of the row with missing data."
   ]
  },
  {
   "cell_type": "code",
   "execution_count": 130,
   "metadata": {},
   "outputs": [],
   "source": [
    "properties = properties[~properties.KITCHENS.isna()]\n",
    "properties.reset_index(inplace=True, drop=True)"
   ]
  },
  {
   "cell_type": "code",
   "execution_count": 131,
   "metadata": {},
   "outputs": [
    {
     "data": {
      "text/plain": [
       "count    54559.000000\n",
       "mean         1.250719\n",
       "std          0.657439\n",
       "min          0.000000\n",
       "25%          1.000000\n",
       "50%          1.000000\n",
       "75%          1.000000\n",
       "max         44.000000\n",
       "Name: KITCHENS, dtype: float64"
      ]
     },
     "execution_count": 131,
     "metadata": {},
     "output_type": "execute_result"
    }
   ],
   "source": [
    "properties.KITCHENS.describe()"
   ]
  },
  {
   "cell_type": "code",
   "execution_count": 132,
   "metadata": {},
   "outputs": [
    {
     "data": {
      "text/plain": [
       "1.0     44884\n",
       "2.0      7353\n",
       "4.0      1693\n",
       "3.0       596\n",
       "0.0        24\n",
       "6.0         4\n",
       "5.0         4\n",
       "44.0        1\n",
       "Name: KITCHENS, dtype: int64"
      ]
     },
     "execution_count": 132,
     "metadata": {},
     "output_type": "execute_result"
    }
   ],
   "source": [
    "properties.KITCHENS.value_counts()"
   ]
  },
  {
   "cell_type": "markdown",
   "metadata": {},
   "source": [
    "It doesn't make sense to not have a kitchen.<br>It doesn't make sense to have 44 kitchens."
   ]
  },
  {
   "cell_type": "code",
   "execution_count": 133,
   "metadata": {},
   "outputs": [],
   "source": [
    "properties = properties[properties.KITCHENS != 0]\n",
    "properties = properties[properties.KITCHENS != 44]\n",
    "properties.reset_index(inplace=True, drop=True)"
   ]
  },
  {
   "cell_type": "markdown",
   "metadata": {},
   "source": [
    "KITCHENS' distribution:"
   ]
  },
  {
   "cell_type": "markdown",
   "metadata": {},
   "source": [
    "Dummy:"
   ]
  },
  {
   "cell_type": "code",
   "execution_count": 134,
   "metadata": {},
   "outputs": [],
   "source": [
    "kitchens_dummies = pd.get_dummies(properties.KITCHENS, prefix=\"KITCHENS\", drop_first=True)\n",
    "properties = pd.concat([properties, kitchens_dummies], axis=1)\n",
    "properties.drop(\"KITCHENS\", axis=1, inplace=True)"
   ]
  },
  {
   "cell_type": "markdown",
   "metadata": {},
   "source": [
    "### FIREPLACES"
   ]
  },
  {
   "cell_type": "code",
   "execution_count": 135,
   "metadata": {},
   "outputs": [
    {
     "data": {
      "text/plain": [
       "0"
      ]
     },
     "execution_count": 135,
     "metadata": {},
     "output_type": "execute_result"
    }
   ],
   "source": [
    "sum(properties.FIREPLACES.isna())"
   ]
  },
  {
   "cell_type": "code",
   "execution_count": 136,
   "metadata": {},
   "outputs": [
    {
     "data": {
      "text/plain": [
       "count    54534.000000\n",
       "mean         0.671526\n",
       "std          0.921298\n",
       "min          0.000000\n",
       "25%          0.000000\n",
       "50%          0.000000\n",
       "75%          1.000000\n",
       "max         13.000000\n",
       "Name: FIREPLACES, dtype: float64"
      ]
     },
     "execution_count": 136,
     "metadata": {},
     "output_type": "execute_result"
    }
   ],
   "source": [
    "properties.FIREPLACES.describe()"
   ]
  },
  {
   "cell_type": "code",
   "execution_count": 137,
   "metadata": {},
   "outputs": [
    {
     "data": {
      "text/plain": [
       "0     29400\n",
       "1     17075\n",
       "2      5908\n",
       "3      1388\n",
       "4       471\n",
       "5       162\n",
       "6        85\n",
       "7        26\n",
       "8         8\n",
       "9         4\n",
       "13        2\n",
       "11        2\n",
       "10        2\n",
       "12        1\n",
       "Name: FIREPLACES, dtype: int64"
      ]
     },
     "execution_count": 137,
     "metadata": {},
     "output_type": "execute_result"
    }
   ],
   "source": [
    "properties.FIREPLACES.value_counts()"
   ]
  },
  {
   "cell_type": "markdown",
   "metadata": {},
   "source": [
    "Dummy:"
   ]
  },
  {
   "cell_type": "code",
   "execution_count": 138,
   "metadata": {},
   "outputs": [],
   "source": [
    "fireplaces_dummies = pd.get_dummies(properties.FIREPLACES, prefix=\"FIREPLACES\", drop_first=True)\n",
    "properties = pd.concat([properties, fireplaces_dummies], axis=1)\n",
    "properties.drop(\"FIREPLACES\", axis=1, inplace=True)"
   ]
  },
  {
   "cell_type": "markdown",
   "metadata": {},
   "source": [
    "### USECODE\n",
    "Property use code."
   ]
  },
  {
   "cell_type": "code",
   "execution_count": 139,
   "metadata": {},
   "outputs": [
    {
     "data": {
      "text/plain": [
       "0"
      ]
     },
     "execution_count": 139,
     "metadata": {},
     "output_type": "execute_result"
    }
   ],
   "source": [
    "sum(properties.USECODE.isna())"
   ]
  },
  {
   "cell_type": "code",
   "execution_count": 140,
   "metadata": {},
   "outputs": [
    {
     "data": {
      "text/plain": [
       "count    54534.000000\n",
       "mean        13.269850\n",
       "std          4.181479\n",
       "min         11.000000\n",
       "25%         11.000000\n",
       "50%         12.000000\n",
       "75%         13.000000\n",
       "max         39.000000\n",
       "Name: USECODE, dtype: float64"
      ]
     },
     "execution_count": 140,
     "metadata": {},
     "output_type": "execute_result"
    }
   ],
   "source": [
    "properties.USECODE.describe()"
   ]
  },
  {
   "cell_type": "code",
   "execution_count": 141,
   "metadata": {},
   "outputs": [
    {
     "data": {
      "text/plain": [
       "11    24403\n",
       "12    15397\n",
       "13     7322\n",
       "24     5039\n",
       "23     2338\n",
       "15       30\n",
       "19        4\n",
       "39        1\n",
       "Name: USECODE, dtype: int64"
      ]
     },
     "execution_count": 141,
     "metadata": {},
     "output_type": "execute_result"
    }
   ],
   "source": [
    "properties.USECODE.value_counts()"
   ]
  },
  {
   "cell_type": "markdown",
   "metadata": {},
   "source": [
    "Dummy:"
   ]
  },
  {
   "cell_type": "code",
   "execution_count": 142,
   "metadata": {},
   "outputs": [],
   "source": [
    "usecode_dummies = pd.get_dummies(properties.USECODE, prefix=\"USECODE\", drop_first=True)\n",
    "properties = pd.concat([properties, usecode_dummies], axis=1)\n",
    "properties.drop(\"USECODE\", axis=1, inplace=True)"
   ]
  },
  {
   "cell_type": "markdown",
   "metadata": {},
   "source": [
    "### LANDAREA\n",
    "Land area of property in square feet."
   ]
  },
  {
   "cell_type": "code",
   "execution_count": 143,
   "metadata": {},
   "outputs": [
    {
     "data": {
      "text/plain": [
       "0"
      ]
     },
     "execution_count": 143,
     "metadata": {},
     "output_type": "execute_result"
    }
   ],
   "source": [
    "sum(properties.LANDAREA.isna())"
   ]
  },
  {
   "cell_type": "code",
   "execution_count": 144,
   "metadata": {},
   "outputs": [
    {
     "data": {
      "text/plain": [
       "count     54534.000000\n",
       "mean       3204.603165\n",
       "std        3096.421435\n",
       "min           0.000000\n",
       "25%        1520.000000\n",
       "50%        2229.000000\n",
       "75%        4000.000000\n",
       "max      155905.000000\n",
       "Name: LANDAREA, dtype: float64"
      ]
     },
     "execution_count": 144,
     "metadata": {},
     "output_type": "execute_result"
    }
   ],
   "source": [
    "properties.LANDAREA.describe()"
   ]
  },
  {
   "cell_type": "markdown",
   "metadata": {},
   "source": [
    "LANDAREA's distribution:"
   ]
  },
  {
   "cell_type": "code",
   "execution_count": 145,
   "metadata": {},
   "outputs": [
    {
     "data": {
      "text/plain": [
       "Text(0, 0.5, 'Count')"
      ]
     },
     "execution_count": 145,
     "metadata": {},
     "output_type": "execute_result"
    },
    {
     "data": {
      "image/png": "[encoded data removed]",
      "text/plain": [
       "<Figure size 432x288 with 1 Axes>"
      ]
     },
     "metadata": {
      "needs_background": "light"
     },
     "output_type": "display_data"
    }
   ],
   "source": [
    "properties.LANDAREA.hist(bins=100)\n",
    "plt.title(\"LANDAREA Histogram\")\n",
    "plt.xlabel(\"LANDAREA\")\n",
    "plt.ylabel(\"Count\")"
   ]
  },
  {
   "cell_type": "markdown",
   "metadata": {},
   "source": [
    "### GIS_LAST_MOD_DTTM\n",
    "Last Modified Date."
   ]
  },
  {
   "cell_type": "code",
   "execution_count": 146,
   "metadata": {},
   "outputs": [
    {
     "data": {
      "text/plain": [
       "0"
      ]
     },
     "execution_count": 146,
     "metadata": {},
     "output_type": "execute_result"
    }
   ],
   "source": [
    "sum(properties.GIS_LAST_MOD_DTTM.isna())"
   ]
  },
  {
   "cell_type": "code",
   "execution_count": 147,
   "metadata": {},
   "outputs": [
    {
     "data": {
      "text/plain": [
       "count                   54534\n",
       "unique                      1\n",
       "top       2018-07-22 18:01:43\n",
       "freq                    54534\n",
       "Name: GIS_LAST_MOD_DTTM, dtype: object"
      ]
     },
     "execution_count": 147,
     "metadata": {},
     "output_type": "execute_result"
    }
   ],
   "source": [
    "properties.GIS_LAST_MOD_DTTM.describe()"
   ]
  },
  {
   "cell_type": "markdown",
   "metadata": {},
   "source": [
    "We don't think this feature will be useful at all."
   ]
  },
  {
   "cell_type": "code",
   "execution_count": 148,
   "metadata": {},
   "outputs": [],
   "source": [
    "properties.drop(\"GIS_LAST_MOD_DTTM\", axis=1, inplace=True)"
   ]
  },
  {
   "cell_type": "markdown",
   "metadata": {},
   "source": [
    "### SOURCE\n",
    "Raw Data Source."
   ]
  },
  {
   "cell_type": "code",
   "execution_count": 149,
   "metadata": {},
   "outputs": [
    {
     "data": {
      "text/plain": [
       "0"
      ]
     },
     "execution_count": 149,
     "metadata": {},
     "output_type": "execute_result"
    }
   ],
   "source": [
    "sum(properties.SOURCE.isna())"
   ]
  },
  {
   "cell_type": "code",
   "execution_count": 150,
   "metadata": {},
   "outputs": [
    {
     "data": {
      "text/plain": [
       "count           54534\n",
       "unique              1\n",
       "top       Residential\n",
       "freq            54534\n",
       "Name: SOURCE, dtype: object"
      ]
     },
     "execution_count": 150,
     "metadata": {},
     "output_type": "execute_result"
    }
   ],
   "source": [
    "properties.SOURCE.describe()"
   ]
  },
  {
   "cell_type": "markdown",
   "metadata": {},
   "source": [
    "We don't think this feature will be useful at all."
   ]
  },
  {
   "cell_type": "code",
   "execution_count": 151,
   "metadata": {},
   "outputs": [],
   "source": [
    "properties.drop(\"SOURCE\", axis=1, inplace=True)"
   ]
  },
  {
   "cell_type": "markdown",
   "metadata": {},
   "source": [
    "### CMPLX_NUM\n",
    "Complex number."
   ]
  },
  {
   "cell_type": "code",
   "execution_count": 152,
   "metadata": {},
   "outputs": [
    {
     "data": {
      "text/plain": [
       "54534"
      ]
     },
     "execution_count": 152,
     "metadata": {},
     "output_type": "execute_result"
    }
   ],
   "source": [
    "sum(properties.CMPLX_NUM.isna())"
   ]
  },
  {
   "cell_type": "code",
   "execution_count": 153,
   "metadata": {},
   "outputs": [
    {
     "data": {
      "text/plain": [
       "count    0.0\n",
       "mean     NaN\n",
       "std      NaN\n",
       "min      NaN\n",
       "25%      NaN\n",
       "50%      NaN\n",
       "75%      NaN\n",
       "max      NaN\n",
       "Name: CMPLX_NUM, dtype: float64"
      ]
     },
     "execution_count": 153,
     "metadata": {},
     "output_type": "execute_result"
    }
   ],
   "source": [
    "properties.CMPLX_NUM.describe()"
   ]
  },
  {
   "cell_type": "markdown",
   "metadata": {},
   "source": [
    "We don't think this feature will be useful at all."
   ]
  },
  {
   "cell_type": "code",
   "execution_count": 154,
   "metadata": {},
   "outputs": [],
   "source": [
    "properties.drop(\"CMPLX_NUM\", axis=1, inplace=True)"
   ]
  },
  {
   "cell_type": "markdown",
   "metadata": {},
   "source": [
    "### LIVING_GBA\n",
    "Gross building area in square feet."
   ]
  },
  {
   "cell_type": "code",
   "execution_count": 155,
   "metadata": {},
   "outputs": [
    {
     "data": {
      "text/plain": [
       "54534"
      ]
     },
     "execution_count": 155,
     "metadata": {},
     "output_type": "execute_result"
    }
   ],
   "source": [
    "sum(properties.LIVING_GBA.isna())"
   ]
  },
  {
   "cell_type": "code",
   "execution_count": 156,
   "metadata": {},
   "outputs": [
    {
     "data": {
      "text/plain": [
       "count    0.0\n",
       "mean     NaN\n",
       "std      NaN\n",
       "min      NaN\n",
       "25%      NaN\n",
       "50%      NaN\n",
       "75%      NaN\n",
       "max      NaN\n",
       "Name: LIVING_GBA, dtype: float64"
      ]
     },
     "execution_count": 156,
     "metadata": {},
     "output_type": "execute_result"
    }
   ],
   "source": [
    "properties.LIVING_GBA.describe()"
   ]
  },
  {
   "cell_type": "markdown",
   "metadata": {},
   "source": [
    "We don't think this feature will be useful at all."
   ]
  },
  {
   "cell_type": "code",
   "execution_count": 157,
   "metadata": {},
   "outputs": [],
   "source": [
    "properties.drop(\"LIVING_GBA\", axis=1, inplace=True)"
   ]
  },
  {
   "cell_type": "markdown",
   "metadata": {},
   "source": [
    "### FULLADDRESS\n",
    "Full Street Address."
   ]
  },
  {
   "cell_type": "code",
   "execution_count": 158,
   "metadata": {},
   "outputs": [
    {
     "data": {
      "text/plain": [
       "310"
      ]
     },
     "execution_count": 158,
     "metadata": {},
     "output_type": "execute_result"
    }
   ],
   "source": [
    "sum(properties.FULLADDRESS.isna())"
   ]
  },
  {
   "cell_type": "code",
   "execution_count": 159,
   "metadata": {},
   "outputs": [
    {
     "data": {
      "text/plain": [
       "count                  54224\n",
       "unique                 54213\n",
       "top       131 11TH STREET SE\n",
       "freq                       2\n",
       "Name: FULLADDRESS, dtype: object"
      ]
     },
     "execution_count": 159,
     "metadata": {},
     "output_type": "execute_result"
    }
   ],
   "source": [
    "properties.FULLADDRESS.describe()"
   ]
  },
  {
   "cell_type": "code",
   "execution_count": 160,
   "metadata": {},
   "outputs": [
    {
     "data": {
      "text/plain": [
       "131 11TH STREET SE     2\n",
       "1800 11TH STREET NW    2\n",
       "3327 P STREET NW       2\n",
       "945 O STREET NW        2\n",
       "900 55TH STREET NE     2\n",
       "Name: FULLADDRESS, dtype: int64"
      ]
     },
     "execution_count": 160,
     "metadata": {},
     "output_type": "execute_result"
    }
   ],
   "source": [
    "properties.FULLADDRESS.value_counts().head()"
   ]
  },
  {
   "cell_type": "markdown",
   "metadata": {},
   "source": [
    "We don't think this feature will be useful at all."
   ]
  },
  {
   "cell_type": "code",
   "execution_count": 161,
   "metadata": {},
   "outputs": [],
   "source": [
    "properties.drop(\"FULLADDRESS\", axis=1, inplace=True)"
   ]
  },
  {
   "cell_type": "markdown",
   "metadata": {},
   "source": [
    "### CITY"
   ]
  },
  {
   "cell_type": "code",
   "execution_count": 162,
   "metadata": {},
   "outputs": [
    {
     "data": {
      "text/plain": [
       "306"
      ]
     },
     "execution_count": 162,
     "metadata": {},
     "output_type": "execute_result"
    }
   ],
   "source": [
    "sum(properties.CITY.isna())"
   ]
  },
  {
   "cell_type": "code",
   "execution_count": 163,
   "metadata": {},
   "outputs": [
    {
     "data": {
      "text/plain": [
       "count          54228\n",
       "unique             1\n",
       "top       WASHINGTON\n",
       "freq           54228\n",
       "Name: CITY, dtype: object"
      ]
     },
     "execution_count": 163,
     "metadata": {},
     "output_type": "execute_result"
    }
   ],
   "source": [
    "properties.CITY.describe()"
   ]
  },
  {
   "cell_type": "markdown",
   "metadata": {},
   "source": [
    "We don't think this feature will be useful at all."
   ]
  },
  {
   "cell_type": "code",
   "execution_count": 164,
   "metadata": {},
   "outputs": [],
   "source": [
    "properties.drop(\"CITY\", axis=1, inplace=True)"
   ]
  },
  {
   "cell_type": "markdown",
   "metadata": {},
   "source": [
    "### STATE"
   ]
  },
  {
   "cell_type": "code",
   "execution_count": 165,
   "metadata": {},
   "outputs": [
    {
     "data": {
      "text/plain": [
       "306"
      ]
     },
     "execution_count": 165,
     "metadata": {},
     "output_type": "execute_result"
    }
   ],
   "source": [
    "sum(properties.STATE.isna())"
   ]
  },
  {
   "cell_type": "code",
   "execution_count": 166,
   "metadata": {},
   "outputs": [
    {
     "data": {
      "text/plain": [
       "count     54228\n",
       "unique        1\n",
       "top          DC\n",
       "freq      54228\n",
       "Name: STATE, dtype: object"
      ]
     },
     "execution_count": 166,
     "metadata": {},
     "output_type": "execute_result"
    }
   ],
   "source": [
    "properties.STATE.describe()"
   ]
  },
  {
   "cell_type": "markdown",
   "metadata": {},
   "source": [
    "We don't think this feature will be useful at all."
   ]
  },
  {
   "cell_type": "code",
   "execution_count": 167,
   "metadata": {},
   "outputs": [],
   "source": [
    "properties.drop(\"STATE\", axis=1, inplace=True)"
   ]
  },
  {
   "cell_type": "markdown",
   "metadata": {},
   "source": [
    "### ZIPCODE"
   ]
  },
  {
   "cell_type": "code",
   "execution_count": 168,
   "metadata": {},
   "outputs": [
    {
     "data": {
      "text/plain": [
       "0"
      ]
     },
     "execution_count": 168,
     "metadata": {},
     "output_type": "execute_result"
    }
   ],
   "source": [
    "sum(properties.ZIPCODE.isna())"
   ]
  },
  {
   "cell_type": "code",
   "execution_count": 169,
   "metadata": {},
   "outputs": [
    {
     "data": {
      "text/plain": [
       "count    54534.000000\n",
       "mean     20011.500678\n",
       "std          7.599215\n",
       "min      20001.000000\n",
       "25%      20003.000000\n",
       "50%      20011.000000\n",
       "75%      20017.000000\n",
       "max      20052.000000\n",
       "Name: ZIPCODE, dtype: float64"
      ]
     },
     "execution_count": 169,
     "metadata": {},
     "output_type": "execute_result"
    }
   ],
   "source": [
    "properties.ZIPCODE.describe()"
   ]
  },
  {
   "cell_type": "code",
   "execution_count": 170,
   "metadata": {},
   "outputs": [
    {
     "data": {
      "text/plain": [
       "20002.0    7442\n",
       "20011.0    7228\n",
       "20019.0    5255\n",
       "20003.0    3689\n",
       "20016.0    3605\n",
       "20007.0    3525\n",
       "20020.0    3364\n",
       "20001.0    2987\n",
       "20015.0    2601\n",
       "20018.0    2516\n",
       "20010.0    2263\n",
       "20017.0    2182\n",
       "20009.0    1912\n",
       "20008.0    1836\n",
       "20012.0    1716\n",
       "20032.0    1685\n",
       "20024.0     311\n",
       "20037.0     197\n",
       "20005.0     128\n",
       "20036.0      85\n",
       "20052.0       7\n",
       "Name: ZIPCODE, dtype: int64"
      ]
     },
     "execution_count": 170,
     "metadata": {},
     "output_type": "execute_result"
    }
   ],
   "source": [
    "properties.ZIPCODE.value_counts()"
   ]
  },
  {
   "cell_type": "markdown",
   "metadata": {},
   "source": [
    "Dummy:"
   ]
  },
  {
   "cell_type": "code",
   "execution_count": 171,
   "metadata": {},
   "outputs": [],
   "source": [
    "zip_dummies = pd.get_dummies(properties.ZIPCODE, prefix=\"ZIPCODE\", drop_first=True)\n",
    "properties = pd.concat([properties, zip_dummies], axis=1)\n",
    "properties.drop(\"ZIPCODE\", axis=1, inplace=True)"
   ]
  },
  {
   "cell_type": "markdown",
   "metadata": {},
   "source": [
    "### NATIONALGRID\n",
    "Address location national grid coordinate spatial address."
   ]
  },
  {
   "cell_type": "code",
   "execution_count": 172,
   "metadata": {},
   "outputs": [
    {
     "data": {
      "text/plain": [
       "306"
      ]
     },
     "execution_count": 172,
     "metadata": {},
     "output_type": "execute_result"
    }
   ],
   "source": [
    "sum(properties.NATIONALGRID.isna())"
   ]
  },
  {
   "cell_type": "code",
   "execution_count": 173,
   "metadata": {},
   "outputs": [
    {
     "data": {
      "text/plain": [
       "count                  54228\n",
       "unique                 54205\n",
       "top       18S UJ 26617 07043\n",
       "freq                       2\n",
       "Name: NATIONALGRID, dtype: object"
      ]
     },
     "execution_count": 173,
     "metadata": {},
     "output_type": "execute_result"
    }
   ],
   "source": [
    "properties.NATIONALGRID.describe()"
   ]
  },
  {
   "cell_type": "code",
   "execution_count": 174,
   "metadata": {},
   "outputs": [
    {
     "data": {
      "text/plain": [
       "18S UJ 26617 07043    2\n",
       "18S UJ 28001 06126    2\n",
       "18S UJ 19103 10982    2\n",
       "18S UJ 25398 04622    2\n",
       "18S UJ 21573 08625    2\n",
       "Name: NATIONALGRID, dtype: int64"
      ]
     },
     "execution_count": 174,
     "metadata": {},
     "output_type": "execute_result"
    }
   ],
   "source": [
    "properties.NATIONALGRID.value_counts().head()"
   ]
  },
  {
   "cell_type": "markdown",
   "metadata": {},
   "source": [
    "We don't think this feature will be useful at all."
   ]
  },
  {
   "cell_type": "code",
   "execution_count": 175,
   "metadata": {},
   "outputs": [],
   "source": [
    "properties.drop(\"NATIONALGRID\", axis=1, inplace=True)"
   ]
  },
  {
   "cell_type": "markdown",
   "metadata": {},
   "source": [
    "### LATITUDE"
   ]
  },
  {
   "cell_type": "code",
   "execution_count": 176,
   "metadata": {},
   "outputs": [
    {
     "data": {
      "text/plain": [
       "0"
      ]
     },
     "execution_count": 176,
     "metadata": {},
     "output_type": "execute_result"
    }
   ],
   "source": [
    "sum(properties.LATITUDE.isna())"
   ]
  },
  {
   "cell_type": "code",
   "execution_count": 177,
   "metadata": {},
   "outputs": [
    {
     "data": {
      "text/plain": [
       "count    54534.000000\n",
       "mean        38.917034\n",
       "std          0.033505\n",
       "min         38.820060\n",
       "25%         38.893773\n",
       "50%         38.917392\n",
       "75%         38.943362\n",
       "max         38.995435\n",
       "Name: LATITUDE, dtype: float64"
      ]
     },
     "execution_count": 177,
     "metadata": {},
     "output_type": "execute_result"
    }
   ],
   "source": [
    "properties.LATITUDE.describe()"
   ]
  },
  {
   "cell_type": "markdown",
   "metadata": {},
   "source": [
    "LATITUDE's distribution:"
   ]
  },
  {
   "cell_type": "code",
   "execution_count": 178,
   "metadata": {},
   "outputs": [
    {
     "data": {
      "text/plain": [
       "Text(0, 0.5, 'Count')"
      ]
     },
     "execution_count": 178,
     "metadata": {},
     "output_type": "execute_result"
    },
    {
     "data": {
      "image/png": "[encoded data removed]",
      "text/plain": [
       "<Figure size 432x288 with 1 Axes>"
      ]
     },
     "metadata": {
      "needs_background": "light"
     },
     "output_type": "display_data"
    }
   ],
   "source": [
    "properties.LATITUDE.hist()\n",
    "plt.title(\"LATITUDE Histogram\")\n",
    "plt.xlabel(\"LATITUDE\")\n",
    "plt.ylabel(\"Count\")"
   ]
  },
  {
   "cell_type": "markdown",
   "metadata": {},
   "source": [
    "### LONGITUDE"
   ]
  },
  {
   "cell_type": "code",
   "execution_count": 179,
   "metadata": {},
   "outputs": [
    {
     "data": {
      "text/plain": [
       "0"
      ]
     },
     "execution_count": 179,
     "metadata": {},
     "output_type": "execute_result"
    }
   ],
   "source": [
    "sum(properties.LONGITUDE.isna())"
   ]
  },
  {
   "cell_type": "code",
   "execution_count": 180,
   "metadata": {},
   "outputs": [
    {
     "data": {
      "text/plain": [
       "count    54534.000000\n",
       "mean       -77.012033\n",
       "std          0.043154\n",
       "min        -77.113909\n",
       "25%        -77.038538\n",
       "50%        -77.009369\n",
       "75%        -76.984581\n",
       "max        -76.909758\n",
       "Name: LONGITUDE, dtype: float64"
      ]
     },
     "execution_count": 180,
     "metadata": {},
     "output_type": "execute_result"
    }
   ],
   "source": [
    "properties.LONGITUDE.describe()"
   ]
  },
  {
   "cell_type": "markdown",
   "metadata": {},
   "source": [
    "LONGITUDE's distribution:"
   ]
  },
  {
   "cell_type": "code",
   "execution_count": 181,
   "metadata": {},
   "outputs": [
    {
     "data": {
      "text/plain": [
       "Text(0, 0.5, 'Count')"
      ]
     },
     "execution_count": 181,
     "metadata": {},
     "output_type": "execute_result"
    },
    {
     "data": {
      "image/png": "[encoded data removed]",
      "text/plain": [
       "<Figure size 432x288 with 1 Axes>"
      ]
     },
     "metadata": {
      "needs_background": "light"
     },
     "output_type": "display_data"
    }
   ],
   "source": [
    "properties.LONGITUDE.hist()\n",
    "plt.title(\"LONGITUDE Histogram\")\n",
    "plt.xlabel(\"LONGITUDE\")\n",
    "plt.ylabel(\"Count\")"
   ]
  },
  {
   "cell_type": "markdown",
   "metadata": {},
   "source": [
    "### ASSESSMENT_NBHD\n",
    "Neighborhood ID."
   ]
  },
  {
   "cell_type": "code",
   "execution_count": 182,
   "metadata": {},
   "outputs": [
    {
     "data": {
      "text/plain": [
       "0"
      ]
     },
     "execution_count": 182,
     "metadata": {},
     "output_type": "execute_result"
    }
   ],
   "source": [
    "sum(properties.ASSESSMENT_NBHD.isna())"
   ]
  },
  {
   "cell_type": "code",
   "execution_count": 183,
   "metadata": {},
   "outputs": [
    {
     "data": {
      "text/plain": [
       "count          54534\n",
       "unique            55\n",
       "top       Old City 1\n",
       "freq            7038\n",
       "Name: ASSESSMENT_NBHD, dtype: object"
      ]
     },
     "execution_count": 183,
     "metadata": {},
     "output_type": "execute_result"
    }
   ],
   "source": [
    "properties.ASSESSMENT_NBHD.describe()"
   ]
  },
  {
   "cell_type": "code",
   "execution_count": 184,
   "metadata": {},
   "outputs": [
    {
     "data": {
      "text/plain": [
       "Old City 1                      7038\n",
       "Petworth                        2807\n",
       "Columbia Heights                2795\n",
       "Old City 2                      2710\n",
       "Chevy Chase                     2631\n",
       "Deanwood                        2593\n",
       "Brookland                       2514\n",
       "Brightwood                      1786\n",
       "Capitol Hill                    1714\n",
       "Congress Heights                1568\n",
       "Georgetown                      1467\n",
       "Randle Heights                  1437\n",
       "Fort Dupont Park                1370\n",
       "Trinidad                        1368\n",
       "American University             1246\n",
       "Woodridge                       1243\n",
       "Riggs Park                      1143\n",
       "Hillcrest                       1090\n",
       "16th Street Heights             1022\n",
       "Eckington                        971\n",
       "Mt. Pleasant                     910\n",
       "Ledroit Park                     783\n",
       "Anacostia                        715\n",
       "Marshall Heights                 714\n",
       "Lily Ponds                       663\n",
       "Fort Lincoln                     561\n",
       "Cleveland Park                   549\n",
       "Spring Valley                    540\n",
       "Glover Park                      512\n",
       "Palisades                        502\n",
       "Kent                             490\n",
       "Burleith                         453\n",
       "Shepherd Heights                 453\n",
       "North Cleveland Park             436\n",
       "Berkley                          426\n",
       "Takoma Park                      424\n",
       "Chillum                          418\n",
       "Forest Hills                     416\n",
       "Kalorama                         411\n",
       "Michigan Park                    397\n",
       "Crestwood                        388\n",
       "Brentwood                        362\n",
       "Wesley Heights                   351\n",
       "Colonial Village                 267\n",
       "Garfield                         265\n",
       "Observatory Circle               235\n",
       "Foxhall                          219\n",
       "Wakefield                        204\n",
       "Southwest Waterfront             185\n",
       "Barry Farms                      154\n",
       "Hawthorne                        140\n",
       "Foggy Bottom                     133\n",
       "Woodley                          122\n",
       "Central-tri 1                    112\n",
       "Massachusetts Avenue Heights     111\n",
       "Name: ASSESSMENT_NBHD, dtype: int64"
      ]
     },
     "execution_count": 184,
     "metadata": {},
     "output_type": "execute_result"
    }
   ],
   "source": [
    "properties.ASSESSMENT_NBHD.value_counts()"
   ]
  },
  {
   "cell_type": "markdown",
   "metadata": {},
   "source": [
    "Dummy:"
   ]
  },
  {
   "cell_type": "code",
   "execution_count": 185,
   "metadata": {},
   "outputs": [],
   "source": [
    "neighborhood_dummies = pd.get_dummies(properties.ASSESSMENT_NBHD, prefix=\"ASSESSMENT_NBHD\", drop_first=True)\n",
    "properties = pd.concat([properties, neighborhood_dummies], axis=1)\n",
    "properties.drop(\"ASSESSMENT_NBHD\", axis=1, inplace=True)"
   ]
  },
  {
   "cell_type": "markdown",
   "metadata": {},
   "source": [
    "### ASSESSMENT_SUBNBHD\n",
    "Subneighborhood ID."
   ]
  },
  {
   "cell_type": "code",
   "execution_count": 186,
   "metadata": {},
   "outputs": [
    {
     "data": {
      "text/plain": [
       "7839"
      ]
     },
     "execution_count": 186,
     "metadata": {},
     "output_type": "execute_result"
    }
   ],
   "source": [
    "sum(properties.ASSESSMENT_SUBNBHD.isna())"
   ]
  },
  {
   "cell_type": "code",
   "execution_count": 187,
   "metadata": {},
   "outputs": [
    {
     "data": {
      "text/plain": [
       "count                46695\n",
       "unique                 121\n",
       "top       039 K Old City 1\n",
       "freq                  1318\n",
       "Name: ASSESSMENT_SUBNBHD, dtype: object"
      ]
     },
     "execution_count": 187,
     "metadata": {},
     "output_type": "execute_result"
    }
   ],
   "source": [
    "properties.ASSESSMENT_SUBNBHD.describe()"
   ]
  },
  {
   "cell_type": "markdown",
   "metadata": {},
   "source": [
    "Since this feature is basically a more detailed version of ASSESSMENT_NBHD, we have decided not to use it.<br>The main reason is its lack of data!"
   ]
  },
  {
   "cell_type": "code",
   "execution_count": 188,
   "metadata": {},
   "outputs": [],
   "source": [
    "properties.drop(\"ASSESSMENT_SUBNBHD\", axis=1, inplace=True)"
   ]
  },
  {
   "cell_type": "markdown",
   "metadata": {},
   "source": [
    "### WARD"
   ]
  },
  {
   "cell_type": "code",
   "execution_count": 189,
   "metadata": {},
   "outputs": [
    {
     "data": {
      "text/plain": [
       "0"
      ]
     },
     "execution_count": 189,
     "metadata": {},
     "output_type": "execute_result"
    }
   ],
   "source": [
    "sum(properties.WARD.isna())"
   ]
  },
  {
   "cell_type": "code",
   "execution_count": 190,
   "metadata": {},
   "outputs": [
    {
     "data": {
      "text/plain": [
       "count      54534\n",
       "unique         8\n",
       "top       Ward 4\n",
       "freq       10073\n",
       "Name: WARD, dtype: object"
      ]
     },
     "execution_count": 190,
     "metadata": {},
     "output_type": "execute_result"
    }
   ],
   "source": [
    "properties.WARD.describe()"
   ]
  },
  {
   "cell_type": "code",
   "execution_count": 191,
   "metadata": {},
   "outputs": [
    {
     "data": {
      "text/plain": [
       "Ward 4    10073\n",
       "Ward 6     9209\n",
       "Ward 5     8975\n",
       "Ward 3     7874\n",
       "Ward 7     6773\n",
       "Ward 1     4397\n",
       "Ward 8     3863\n",
       "Ward 2     3370\n",
       "Name: WARD, dtype: int64"
      ]
     },
     "execution_count": 191,
     "metadata": {},
     "output_type": "execute_result"
    }
   ],
   "source": [
    "properties.WARD.value_counts()"
   ]
  },
  {
   "cell_type": "markdown",
   "metadata": {},
   "source": [
    "Dummy:"
   ]
  },
  {
   "cell_type": "code",
   "execution_count": 192,
   "metadata": {},
   "outputs": [],
   "source": [
    "ward_dummies = pd.get_dummies(properties.WARD, prefix=\"WARD\", drop_first=True)\n",
    "properties = pd.concat([properties, ward_dummies], axis=1)\n",
    "properties.drop(\"WARD\", axis=1, inplace=True)"
   ]
  },
  {
   "cell_type": "markdown",
   "metadata": {},
   "source": [
    "### QUADRANT"
   ]
  },
  {
   "cell_type": "code",
   "execution_count": 193,
   "metadata": {},
   "outputs": [
    {
     "data": {
      "text/plain": [
       "99"
      ]
     },
     "execution_count": 193,
     "metadata": {},
     "output_type": "execute_result"
    }
   ],
   "source": [
    "sum(properties.QUADRANT.isna())"
   ]
  },
  {
   "cell_type": "markdown",
   "metadata": {},
   "source": [
    "It makes sense to get rid of the rows with missing data."
   ]
  },
  {
   "cell_type": "code",
   "execution_count": 194,
   "metadata": {},
   "outputs": [],
   "source": [
    "properties = properties[~properties.QUADRANT.isna()]\n",
    "properties.reset_index(inplace=True, drop=True)"
   ]
  },
  {
   "cell_type": "code",
   "execution_count": 195,
   "metadata": {},
   "outputs": [
    {
     "data": {
      "text/plain": [
       "count     54435\n",
       "unique        4\n",
       "top          NW\n",
       "freq      26787\n",
       "Name: QUADRANT, dtype: object"
      ]
     },
     "execution_count": 195,
     "metadata": {},
     "output_type": "execute_result"
    }
   ],
   "source": [
    "properties.QUADRANT.describe()"
   ]
  },
  {
   "cell_type": "markdown",
   "metadata": {},
   "source": [
    "Dummy:"
   ]
  },
  {
   "cell_type": "code",
   "execution_count": 196,
   "metadata": {},
   "outputs": [],
   "source": [
    "quad_dummies = pd.get_dummies(properties.QUADRANT, prefix=\"QUADRANT\", drop_first=True)\n",
    "properties = pd.concat([properties, quad_dummies], axis=1)\n",
    "properties.drop(\"QUADRANT\", axis=1, inplace=True)"
   ]
  },
  {
   "cell_type": "markdown",
   "metadata": {},
   "source": [
    "### CENSUS_TRACT, CENSUS_BLOCK, SQUARE, X, and Y"
   ]
  },
  {
   "cell_type": "markdown",
   "metadata": {},
   "source": [
    "We have decided not to use these features for this project due to our lack of knowledge about them. That said, we will consider them for our future work."
   ]
  },
  {
   "cell_type": "code",
   "execution_count": 197,
   "metadata": {},
   "outputs": [],
   "source": [
    "properties.drop([\"CENSUS_TRACT\", \"CENSUS_BLOCK\", \"SQUARE\", \"X\", \"Y\"], axis=1, inplace=True)"
   ]
  },
  {
   "cell_type": "markdown",
   "metadata": {},
   "source": [
    "## Processed data"
   ]
  },
  {
   "cell_type": "code",
   "execution_count": 198,
   "metadata": {},
   "outputs": [
    {
     "data": {
      "text/plain": [
       "(54435, 327)"
      ]
     },
     "execution_count": 198,
     "metadata": {},
     "output_type": "execute_result"
    }
   ],
   "source": [
    "properties.shape"
   ]
  },
  {
   "cell_type": "markdown",
   "metadata": {},
   "source": [
    "Change directory to save data:"
   ]
  },
  {
   "cell_type": "code",
   "execution_count": 199,
   "metadata": {},
   "outputs": [],
   "source": [
    "cd = change_directory.ChangeDirectory()\n",
    "cd.change_to_data_dir()"
   ]
  },
  {
   "cell_type": "markdown",
   "metadata": {},
   "source": [
    "Save data:"
   ]
  },
  {
   "cell_type": "code",
   "execution_count": 200,
   "metadata": {},
   "outputs": [],
   "source": [
    "properties.to_csv(\"processed/Processed_DC_Properties.csv\", index=False)"
   ]
  },
  {
   "cell_type": "markdown",
   "metadata": {},
   "source": [
    "Change back to notebook directory:"
   ]
  },
  {
   "cell_type": "code",
   "execution_count": 201,
   "metadata": {},
   "outputs": [],
   "source": [
    "cd.change_to_notebook_dir()"
   ]
  }
 ],
 "metadata": {
  "kernelspec": {
   "display_name": "Python 3",
   "language": "python",
   "name": "python3"
  },
  "language_info": {
   "codemirror_mode": {
    "name": "ipython",
    "version": 3
   },
   "file_extension": ".py",
   "mimetype": "text/x-python",
   "name": "python",
   "nbconvert_exporter": "python",
   "pygments_lexer": "ipython3",
   "version": "3.7.3"
  }
 },
 "nbformat": 4,
 "nbformat_minor": 2
}
